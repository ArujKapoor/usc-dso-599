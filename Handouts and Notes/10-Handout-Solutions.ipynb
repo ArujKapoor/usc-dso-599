{
 "cells": [
  {
   "cell_type": "markdown",
   "metadata": {},
   "source": [
    "# Session 10: Data Assembly (with Solutions)\n",
    "\n",
    "## 1. Concatenating DataFrames\n",
    "\n",
    "### Setting up"
   ]
  },
  {
   "cell_type": "code",
   "execution_count": 1,
   "metadata": {},
   "outputs": [
    {
     "data": {
      "text/html": [
       "<div>\n",
       "<style scoped>\n",
       "    .dataframe tbody tr th:only-of-type {\n",
       "        vertical-align: middle;\n",
       "    }\n",
       "\n",
       "    .dataframe tbody tr th {\n",
       "        vertical-align: top;\n",
       "    }\n",
       "\n",
       "    .dataframe thead th {\n",
       "        text-align: right;\n",
       "    }\n",
       "</style>\n",
       "<table border=\"1\" class=\"dataframe\">\n",
       "  <thead>\n",
       "    <tr style=\"text-align: right;\">\n",
       "      <th></th>\n",
       "      <th>A</th>\n",
       "      <th>B</th>\n",
       "    </tr>\n",
       "  </thead>\n",
       "  <tbody>\n",
       "    <tr>\n",
       "      <th>0</th>\n",
       "      <td>1</td>\n",
       "      <td>3</td>\n",
       "    </tr>\n",
       "    <tr>\n",
       "      <th>1</th>\n",
       "      <td>2</td>\n",
       "      <td>4</td>\n",
       "    </tr>\n",
       "  </tbody>\n",
       "</table>\n",
       "</div>"
      ],
      "text/plain": [
       "   A  B\n",
       "0  1  3\n",
       "1  2  4"
      ]
     },
     "execution_count": 1,
     "metadata": {},
     "output_type": "execute_result"
    }
   ],
   "source": [
    "import pandas as pd\n",
    "df1=pd.DataFrame([[1,3],[2,4]],columns=['A','B'])\n",
    "df1"
   ]
  },
  {
   "cell_type": "code",
   "execution_count": 2,
   "metadata": {},
   "outputs": [
    {
     "data": {
      "text/html": [
       "<div>\n",
       "<style scoped>\n",
       "    .dataframe tbody tr th:only-of-type {\n",
       "        vertical-align: middle;\n",
       "    }\n",
       "\n",
       "    .dataframe tbody tr th {\n",
       "        vertical-align: top;\n",
       "    }\n",
       "\n",
       "    .dataframe thead th {\n",
       "        text-align: right;\n",
       "    }\n",
       "</style>\n",
       "<table border=\"1\" class=\"dataframe\">\n",
       "  <thead>\n",
       "    <tr style=\"text-align: right;\">\n",
       "      <th></th>\n",
       "      <th>A</th>\n",
       "      <th>B</th>\n",
       "    </tr>\n",
       "  </thead>\n",
       "  <tbody>\n",
       "    <tr>\n",
       "      <th>0</th>\n",
       "      <td>3</td>\n",
       "      <td>5</td>\n",
       "    </tr>\n",
       "    <tr>\n",
       "      <th>1</th>\n",
       "      <td>4</td>\n",
       "      <td>6</td>\n",
       "    </tr>\n",
       "  </tbody>\n",
       "</table>\n",
       "</div>"
      ],
      "text/plain": [
       "   A  B\n",
       "0  3  5\n",
       "1  4  6"
      ]
     },
     "execution_count": 2,
     "metadata": {},
     "output_type": "execute_result"
    }
   ],
   "source": [
    "df2=pd.DataFrame([[3,5],[4,6]],columns=['A','B'])\n",
    "df2"
   ]
  },
  {
   "cell_type": "code",
   "execution_count": 3,
   "metadata": {},
   "outputs": [
    {
     "data": {
      "text/html": [
       "<div>\n",
       "<style scoped>\n",
       "    .dataframe tbody tr th:only-of-type {\n",
       "        vertical-align: middle;\n",
       "    }\n",
       "\n",
       "    .dataframe tbody tr th {\n",
       "        vertical-align: top;\n",
       "    }\n",
       "\n",
       "    .dataframe thead th {\n",
       "        text-align: right;\n",
       "    }\n",
       "</style>\n",
       "<table border=\"1\" class=\"dataframe\">\n",
       "  <thead>\n",
       "    <tr style=\"text-align: right;\">\n",
       "      <th></th>\n",
       "      <th>B</th>\n",
       "      <th>C</th>\n",
       "    </tr>\n",
       "  </thead>\n",
       "  <tbody>\n",
       "    <tr>\n",
       "      <th>0</th>\n",
       "      <td>1</td>\n",
       "      <td>1</td>\n",
       "    </tr>\n",
       "    <tr>\n",
       "      <th>1</th>\n",
       "      <td>1</td>\n",
       "      <td>1</td>\n",
       "    </tr>\n",
       "  </tbody>\n",
       "</table>\n",
       "</div>"
      ],
      "text/plain": [
       "   B  C\n",
       "0  1  1\n",
       "1  1  1"
      ]
     },
     "execution_count": 3,
     "metadata": {},
     "output_type": "execute_result"
    }
   ],
   "source": [
    "df3=pd.DataFrame([[1,1],[1,1]],columns=['B','C'])\n",
    "df3"
   ]
  },
  {
   "cell_type": "markdown",
   "metadata": {},
   "source": [
    "### Vertical concatenation"
   ]
  },
  {
   "cell_type": "code",
   "execution_count": 4,
   "metadata": {},
   "outputs": [
    {
     "data": {
      "text/html": [
       "<div>\n",
       "<style scoped>\n",
       "    .dataframe tbody tr th:only-of-type {\n",
       "        vertical-align: middle;\n",
       "    }\n",
       "\n",
       "    .dataframe tbody tr th {\n",
       "        vertical-align: top;\n",
       "    }\n",
       "\n",
       "    .dataframe thead th {\n",
       "        text-align: right;\n",
       "    }\n",
       "</style>\n",
       "<table border=\"1\" class=\"dataframe\">\n",
       "  <thead>\n",
       "    <tr style=\"text-align: right;\">\n",
       "      <th></th>\n",
       "      <th>A</th>\n",
       "      <th>B</th>\n",
       "    </tr>\n",
       "  </thead>\n",
       "  <tbody>\n",
       "    <tr>\n",
       "      <th>0</th>\n",
       "      <td>1</td>\n",
       "      <td>3</td>\n",
       "    </tr>\n",
       "    <tr>\n",
       "      <th>1</th>\n",
       "      <td>2</td>\n",
       "      <td>4</td>\n",
       "    </tr>\n",
       "    <tr>\n",
       "      <th>0</th>\n",
       "      <td>3</td>\n",
       "      <td>5</td>\n",
       "    </tr>\n",
       "    <tr>\n",
       "      <th>1</th>\n",
       "      <td>4</td>\n",
       "      <td>6</td>\n",
       "    </tr>\n",
       "  </tbody>\n",
       "</table>\n",
       "</div>"
      ],
      "text/plain": [
       "   A  B\n",
       "0  1  3\n",
       "1  2  4\n",
       "0  3  5\n",
       "1  4  6"
      ]
     },
     "execution_count": 4,
     "metadata": {},
     "output_type": "execute_result"
    }
   ],
   "source": [
    "df=pd.concat([df1,df2])\n",
    "df"
   ]
  },
  {
   "cell_type": "code",
   "execution_count": 5,
   "metadata": {},
   "outputs": [
    {
     "data": {
      "text/html": [
       "<div>\n",
       "<style scoped>\n",
       "    .dataframe tbody tr th:only-of-type {\n",
       "        vertical-align: middle;\n",
       "    }\n",
       "\n",
       "    .dataframe tbody tr th {\n",
       "        vertical-align: top;\n",
       "    }\n",
       "\n",
       "    .dataframe thead th {\n",
       "        text-align: right;\n",
       "    }\n",
       "</style>\n",
       "<table border=\"1\" class=\"dataframe\">\n",
       "  <thead>\n",
       "    <tr style=\"text-align: right;\">\n",
       "      <th></th>\n",
       "      <th>A</th>\n",
       "      <th>B</th>\n",
       "    </tr>\n",
       "  </thead>\n",
       "  <tbody>\n",
       "    <tr>\n",
       "      <th>0</th>\n",
       "      <td>1</td>\n",
       "      <td>3</td>\n",
       "    </tr>\n",
       "    <tr>\n",
       "      <th>0</th>\n",
       "      <td>3</td>\n",
       "      <td>5</td>\n",
       "    </tr>\n",
       "  </tbody>\n",
       "</table>\n",
       "</div>"
      ],
      "text/plain": [
       "   A  B\n",
       "0  1  3\n",
       "0  3  5"
      ]
     },
     "execution_count": 5,
     "metadata": {},
     "output_type": "execute_result"
    }
   ],
   "source": [
    "df.loc[0,:]"
   ]
  },
  {
   "cell_type": "code",
   "execution_count": 6,
   "metadata": {},
   "outputs": [
    {
     "data": {
      "text/html": [
       "<div>\n",
       "<style scoped>\n",
       "    .dataframe tbody tr th:only-of-type {\n",
       "        vertical-align: middle;\n",
       "    }\n",
       "\n",
       "    .dataframe tbody tr th {\n",
       "        vertical-align: top;\n",
       "    }\n",
       "\n",
       "    .dataframe thead th {\n",
       "        text-align: right;\n",
       "    }\n",
       "</style>\n",
       "<table border=\"1\" class=\"dataframe\">\n",
       "  <thead>\n",
       "    <tr style=\"text-align: right;\">\n",
       "      <th></th>\n",
       "      <th>A</th>\n",
       "      <th>B</th>\n",
       "    </tr>\n",
       "  </thead>\n",
       "  <tbody>\n",
       "    <tr>\n",
       "      <th>0</th>\n",
       "      <td>1</td>\n",
       "      <td>3</td>\n",
       "    </tr>\n",
       "    <tr>\n",
       "      <th>1</th>\n",
       "      <td>2</td>\n",
       "      <td>4</td>\n",
       "    </tr>\n",
       "    <tr>\n",
       "      <th>2</th>\n",
       "      <td>3</td>\n",
       "      <td>5</td>\n",
       "    </tr>\n",
       "    <tr>\n",
       "      <th>3</th>\n",
       "      <td>4</td>\n",
       "      <td>6</td>\n",
       "    </tr>\n",
       "  </tbody>\n",
       "</table>\n",
       "</div>"
      ],
      "text/plain": [
       "   A  B\n",
       "0  1  3\n",
       "1  2  4\n",
       "2  3  5\n",
       "3  4  6"
      ]
     },
     "execution_count": 6,
     "metadata": {},
     "output_type": "execute_result"
    }
   ],
   "source": [
    "pd.concat([df1,df2],ignore_index=True)"
   ]
  },
  {
   "cell_type": "markdown",
   "metadata": {},
   "source": [
    "### Column names do not match"
   ]
  },
  {
   "cell_type": "code",
   "execution_count": 7,
   "metadata": {},
   "outputs": [
    {
     "data": {
      "text/html": [
       "<div>\n",
       "<style scoped>\n",
       "    .dataframe tbody tr th:only-of-type {\n",
       "        vertical-align: middle;\n",
       "    }\n",
       "\n",
       "    .dataframe tbody tr th {\n",
       "        vertical-align: top;\n",
       "    }\n",
       "\n",
       "    .dataframe thead th {\n",
       "        text-align: right;\n",
       "    }\n",
       "</style>\n",
       "<table border=\"1\" class=\"dataframe\">\n",
       "  <thead>\n",
       "    <tr style=\"text-align: right;\">\n",
       "      <th></th>\n",
       "      <th>A</th>\n",
       "      <th>B</th>\n",
       "      <th>C</th>\n",
       "    </tr>\n",
       "  </thead>\n",
       "  <tbody>\n",
       "    <tr>\n",
       "      <th>0</th>\n",
       "      <td>1.0</td>\n",
       "      <td>3</td>\n",
       "      <td>NaN</td>\n",
       "    </tr>\n",
       "    <tr>\n",
       "      <th>1</th>\n",
       "      <td>2.0</td>\n",
       "      <td>4</td>\n",
       "      <td>NaN</td>\n",
       "    </tr>\n",
       "    <tr>\n",
       "      <th>0</th>\n",
       "      <td>NaN</td>\n",
       "      <td>1</td>\n",
       "      <td>1.0</td>\n",
       "    </tr>\n",
       "    <tr>\n",
       "      <th>1</th>\n",
       "      <td>NaN</td>\n",
       "      <td>1</td>\n",
       "      <td>1.0</td>\n",
       "    </tr>\n",
       "  </tbody>\n",
       "</table>\n",
       "</div>"
      ],
      "text/plain": [
       "     A  B    C\n",
       "0  1.0  3  NaN\n",
       "1  2.0  4  NaN\n",
       "0  NaN  1  1.0\n",
       "1  NaN  1  1.0"
      ]
     },
     "execution_count": 7,
     "metadata": {},
     "output_type": "execute_result"
    }
   ],
   "source": [
    "pd.concat([df1,df3],sort=False)"
   ]
  },
  {
   "cell_type": "code",
   "execution_count": 8,
   "metadata": {},
   "outputs": [
    {
     "data": {
      "text/html": [
       "<div>\n",
       "<style scoped>\n",
       "    .dataframe tbody tr th:only-of-type {\n",
       "        vertical-align: middle;\n",
       "    }\n",
       "\n",
       "    .dataframe tbody tr th {\n",
       "        vertical-align: top;\n",
       "    }\n",
       "\n",
       "    .dataframe thead th {\n",
       "        text-align: right;\n",
       "    }\n",
       "</style>\n",
       "<table border=\"1\" class=\"dataframe\">\n",
       "  <thead>\n",
       "    <tr style=\"text-align: right;\">\n",
       "      <th></th>\n",
       "      <th>B</th>\n",
       "    </tr>\n",
       "  </thead>\n",
       "  <tbody>\n",
       "    <tr>\n",
       "      <th>0</th>\n",
       "      <td>3</td>\n",
       "    </tr>\n",
       "    <tr>\n",
       "      <th>1</th>\n",
       "      <td>4</td>\n",
       "    </tr>\n",
       "    <tr>\n",
       "      <th>0</th>\n",
       "      <td>1</td>\n",
       "    </tr>\n",
       "    <tr>\n",
       "      <th>1</th>\n",
       "      <td>1</td>\n",
       "    </tr>\n",
       "  </tbody>\n",
       "</table>\n",
       "</div>"
      ],
      "text/plain": [
       "   B\n",
       "0  3\n",
       "1  4\n",
       "0  1\n",
       "1  1"
      ]
     },
     "execution_count": 8,
     "metadata": {},
     "output_type": "execute_result"
    }
   ],
   "source": [
    "pd.concat([df1,df3],join='inner')"
   ]
  },
  {
   "cell_type": "markdown",
   "metadata": {},
   "source": [
    "### Horizontal Concatenation"
   ]
  },
  {
   "cell_type": "code",
   "execution_count": 9,
   "metadata": {},
   "outputs": [
    {
     "data": {
      "text/html": [
       "<div>\n",
       "<style scoped>\n",
       "    .dataframe tbody tr th:only-of-type {\n",
       "        vertical-align: middle;\n",
       "    }\n",
       "\n",
       "    .dataframe tbody tr th {\n",
       "        vertical-align: top;\n",
       "    }\n",
       "\n",
       "    .dataframe thead th {\n",
       "        text-align: right;\n",
       "    }\n",
       "</style>\n",
       "<table border=\"1\" class=\"dataframe\">\n",
       "  <thead>\n",
       "    <tr style=\"text-align: right;\">\n",
       "      <th></th>\n",
       "      <th>A</th>\n",
       "      <th>B</th>\n",
       "      <th>A</th>\n",
       "      <th>B</th>\n",
       "    </tr>\n",
       "  </thead>\n",
       "  <tbody>\n",
       "    <tr>\n",
       "      <th>0</th>\n",
       "      <td>1</td>\n",
       "      <td>3</td>\n",
       "      <td>3</td>\n",
       "      <td>5</td>\n",
       "    </tr>\n",
       "    <tr>\n",
       "      <th>1</th>\n",
       "      <td>2</td>\n",
       "      <td>4</td>\n",
       "      <td>4</td>\n",
       "      <td>6</td>\n",
       "    </tr>\n",
       "  </tbody>\n",
       "</table>\n",
       "</div>"
      ],
      "text/plain": [
       "   A  B  A  B\n",
       "0  1  3  3  5\n",
       "1  2  4  4  6"
      ]
     },
     "execution_count": 9,
     "metadata": {},
     "output_type": "execute_result"
    }
   ],
   "source": [
    "df=pd.concat([df1,df2],axis=1)\n",
    "df"
   ]
  },
  {
   "cell_type": "code",
   "execution_count": 10,
   "metadata": {},
   "outputs": [
    {
     "data": {
      "text/html": [
       "<div>\n",
       "<style scoped>\n",
       "    .dataframe tbody tr th:only-of-type {\n",
       "        vertical-align: middle;\n",
       "    }\n",
       "\n",
       "    .dataframe tbody tr th {\n",
       "        vertical-align: top;\n",
       "    }\n",
       "\n",
       "    .dataframe thead th {\n",
       "        text-align: right;\n",
       "    }\n",
       "</style>\n",
       "<table border=\"1\" class=\"dataframe\">\n",
       "  <thead>\n",
       "    <tr style=\"text-align: right;\">\n",
       "      <th></th>\n",
       "      <th>0</th>\n",
       "      <th>1</th>\n",
       "    </tr>\n",
       "  </thead>\n",
       "  <tbody>\n",
       "    <tr>\n",
       "      <th>A</th>\n",
       "      <td>1</td>\n",
       "      <td>2</td>\n",
       "    </tr>\n",
       "    <tr>\n",
       "      <th>B</th>\n",
       "      <td>3</td>\n",
       "      <td>4</td>\n",
       "    </tr>\n",
       "    <tr>\n",
       "      <th>A</th>\n",
       "      <td>3</td>\n",
       "      <td>4</td>\n",
       "    </tr>\n",
       "    <tr>\n",
       "      <th>B</th>\n",
       "      <td>5</td>\n",
       "      <td>6</td>\n",
       "    </tr>\n",
       "  </tbody>\n",
       "</table>\n",
       "</div>"
      ],
      "text/plain": [
       "   0  1\n",
       "A  1  2\n",
       "B  3  4\n",
       "A  3  4\n",
       "B  5  6"
      ]
     },
     "execution_count": 10,
     "metadata": {},
     "output_type": "execute_result"
    }
   ],
   "source": [
    "df.T"
   ]
  },
  {
   "cell_type": "markdown",
   "metadata": {},
   "source": [
    "**Q1-a:** Vertically concatenate 3 copies of `df1` together and avoid repeated row labels. "
   ]
  },
  {
   "cell_type": "code",
   "execution_count": 11,
   "metadata": {},
   "outputs": [
    {
     "data": {
      "text/html": [
       "<div>\n",
       "<style scoped>\n",
       "    .dataframe tbody tr th:only-of-type {\n",
       "        vertical-align: middle;\n",
       "    }\n",
       "\n",
       "    .dataframe tbody tr th {\n",
       "        vertical-align: top;\n",
       "    }\n",
       "\n",
       "    .dataframe thead th {\n",
       "        text-align: right;\n",
       "    }\n",
       "</style>\n",
       "<table border=\"1\" class=\"dataframe\">\n",
       "  <thead>\n",
       "    <tr style=\"text-align: right;\">\n",
       "      <th></th>\n",
       "      <th>A</th>\n",
       "      <th>B</th>\n",
       "    </tr>\n",
       "  </thead>\n",
       "  <tbody>\n",
       "    <tr>\n",
       "      <th>0</th>\n",
       "      <td>1</td>\n",
       "      <td>3</td>\n",
       "    </tr>\n",
       "    <tr>\n",
       "      <th>1</th>\n",
       "      <td>2</td>\n",
       "      <td>4</td>\n",
       "    </tr>\n",
       "    <tr>\n",
       "      <th>2</th>\n",
       "      <td>1</td>\n",
       "      <td>3</td>\n",
       "    </tr>\n",
       "    <tr>\n",
       "      <th>3</th>\n",
       "      <td>2</td>\n",
       "      <td>4</td>\n",
       "    </tr>\n",
       "    <tr>\n",
       "      <th>4</th>\n",
       "      <td>1</td>\n",
       "      <td>3</td>\n",
       "    </tr>\n",
       "    <tr>\n",
       "      <th>5</th>\n",
       "      <td>2</td>\n",
       "      <td>4</td>\n",
       "    </tr>\n",
       "  </tbody>\n",
       "</table>\n",
       "</div>"
      ],
      "text/plain": [
       "   A  B\n",
       "0  1  3\n",
       "1  2  4\n",
       "2  1  3\n",
       "3  2  4\n",
       "4  1  3\n",
       "5  2  4"
      ]
     },
     "execution_count": 11,
     "metadata": {},
     "output_type": "execute_result"
    }
   ],
   "source": [
    "pd.concat([df1,df1,df1],ignore_index=True)"
   ]
  },
  {
   "cell_type": "markdown",
   "metadata": {},
   "source": [
    "**Q1-b:** Horizontally concatenate `df1` with the last column of `df3`."
   ]
  },
  {
   "cell_type": "code",
   "execution_count": 12,
   "metadata": {},
   "outputs": [
    {
     "data": {
      "text/html": [
       "<div>\n",
       "<style scoped>\n",
       "    .dataframe tbody tr th:only-of-type {\n",
       "        vertical-align: middle;\n",
       "    }\n",
       "\n",
       "    .dataframe tbody tr th {\n",
       "        vertical-align: top;\n",
       "    }\n",
       "\n",
       "    .dataframe thead th {\n",
       "        text-align: right;\n",
       "    }\n",
       "</style>\n",
       "<table border=\"1\" class=\"dataframe\">\n",
       "  <thead>\n",
       "    <tr style=\"text-align: right;\">\n",
       "      <th></th>\n",
       "      <th>A</th>\n",
       "      <th>B</th>\n",
       "      <th>C</th>\n",
       "    </tr>\n",
       "  </thead>\n",
       "  <tbody>\n",
       "    <tr>\n",
       "      <th>0</th>\n",
       "      <td>1</td>\n",
       "      <td>3</td>\n",
       "      <td>1</td>\n",
       "    </tr>\n",
       "    <tr>\n",
       "      <th>1</th>\n",
       "      <td>2</td>\n",
       "      <td>4</td>\n",
       "      <td>1</td>\n",
       "    </tr>\n",
       "  </tbody>\n",
       "</table>\n",
       "</div>"
      ],
      "text/plain": [
       "   A  B  C\n",
       "0  1  3  1\n",
       "1  2  4  1"
      ]
     },
     "execution_count": 12,
     "metadata": {},
     "output_type": "execute_result"
    }
   ],
   "source": [
    "pd.concat([df1,df3.iloc[:,-1]],axis=1)"
   ]
  },
  {
   "cell_type": "markdown",
   "metadata": {},
   "source": [
    "## Case 8: Analyzing Cancelled Courses by Department\n",
    "\n",
    "Download the \"Marshall Course Scheduling Data\" from Blackboard->Datasets and extract all of the files into the current directory. Then run the following two code cells to load in the Marshall courses from the 2015-2016 and 2016-2017 academic years, as well as all the cancelled courses fromt the same years. Note that the column names of the two files are identical, which makes them suitable for concatenation."
   ]
  },
  {
   "cell_type": "code",
   "execution_count": 2,
   "metadata": {},
   "outputs": [
    {
     "data": {
      "text/plain": [
       "Index(['Course', 'Course Prefix', 'Course Suffix', 'Department',\n",
       "       'First Begin Time', 'First Days', 'First End Time', 'First Instructor',\n",
       "       'First Instructor UID', 'First Room', 'Link', 'Max Units', 'Min Units',\n",
       "       'Mode', 'Reg Count', 'Seats', 'Second Begin Time', 'Second Days',\n",
       "       'Second End Time', 'Second Instructor', 'Second Instructor UID',\n",
       "       'Second Room', 'Section', 'Session', 'Term', 'Title', 'Cancelled'],\n",
       "      dtype='object')"
      ]
     },
     "execution_count": 2,
     "metadata": {},
     "output_type": "execute_result"
    }
   ],
   "source": [
    "import pandas as pd\n",
    "courses=pd.read_excel('Marshall_Course_Enrollment_1516_1617.xlsx')\n",
    "courses['Cancelled']=False\n",
    "courses.columns"
   ]
  },
  {
   "cell_type": "code",
   "execution_count": 3,
   "metadata": {},
   "outputs": [
    {
     "data": {
      "text/plain": [
       "Index(['Course', 'Course Prefix', 'Course Suffix', 'Department',\n",
       "       'First Begin Time', 'First Days', 'First End Time', 'First Instructor',\n",
       "       'First Instructor UID', 'First Room', 'Link', 'Max Units', 'Min Units',\n",
       "       'Mode', 'Reg Count', 'Seats', 'Second Begin Time', 'Second Days',\n",
       "       'Second End Time', 'Second Instructor', 'Second Instructor UID',\n",
       "       'Second Room', 'Section', 'Session', 'Term', 'Title', 'Cancelled'],\n",
       "      dtype='object')"
      ]
     },
     "execution_count": 3,
     "metadata": {},
     "output_type": "execute_result"
    }
   ],
   "source": [
    "cancelled=pd.read_excel('Cancelled_Courses_1516_1617.xlsx')\n",
    "cancelled['Cancelled']=True\n",
    "cancelled.columns"
   ]
  },
  {
   "cell_type": "markdown",
   "metadata": {},
   "source": [
    "**Concatenate the DataFrame \"cancelled\" at the bottom of the DataFrame \"courses\" and call the resulting DataFrame \"combined\", making sure that there are no two rows with the same row label.**"
   ]
  },
  {
   "cell_type": "code",
   "execution_count": 4,
   "metadata": {},
   "outputs": [
    {
     "data": {
      "text/html": [
       "<div>\n",
       "<style scoped>\n",
       "    .dataframe tbody tr th:only-of-type {\n",
       "        vertical-align: middle;\n",
       "    }\n",
       "\n",
       "    .dataframe tbody tr th {\n",
       "        vertical-align: top;\n",
       "    }\n",
       "\n",
       "    .dataframe thead th {\n",
       "        text-align: right;\n",
       "    }\n",
       "</style>\n",
       "<table border=\"1\" class=\"dataframe\">\n",
       "  <thead>\n",
       "    <tr style=\"text-align: right;\">\n",
       "      <th></th>\n",
       "      <th>Course</th>\n",
       "      <th>Course Prefix</th>\n",
       "      <th>Course Suffix</th>\n",
       "      <th>Department</th>\n",
       "      <th>First Begin Time</th>\n",
       "      <th>First Days</th>\n",
       "      <th>First End Time</th>\n",
       "      <th>First Instructor</th>\n",
       "      <th>First Instructor UID</th>\n",
       "      <th>First Room</th>\n",
       "      <th>...</th>\n",
       "      <th>Second Days</th>\n",
       "      <th>Second End Time</th>\n",
       "      <th>Second Instructor</th>\n",
       "      <th>Second Instructor UID</th>\n",
       "      <th>Second Room</th>\n",
       "      <th>Section</th>\n",
       "      <th>Session</th>\n",
       "      <th>Term</th>\n",
       "      <th>Title</th>\n",
       "      <th>Cancelled</th>\n",
       "    </tr>\n",
       "  </thead>\n",
       "  <tbody>\n",
       "    <tr>\n",
       "      <th>0</th>\n",
       "      <td>ACCT-370</td>\n",
       "      <td>ACCT</td>\n",
       "      <td>370</td>\n",
       "      <td>ACCT</td>\n",
       "      <td>10:00:00</td>\n",
       "      <td>F</td>\n",
       "      <td>11:50:00</td>\n",
       "      <td>Hopkins, Merle, W</td>\n",
       "      <td>3.783354e+09</td>\n",
       "      <td>SLH200</td>\n",
       "      <td>...</td>\n",
       "      <td>NaN</td>\n",
       "      <td>NaN</td>\n",
       "      <td>NaN</td>\n",
       "      <td>NaN</td>\n",
       "      <td>NaN</td>\n",
       "      <td>14029</td>\n",
       "      <td>1</td>\n",
       "      <td>20153</td>\n",
       "      <td>External Financial Reporting Issues</td>\n",
       "      <td>False</td>\n",
       "    </tr>\n",
       "    <tr>\n",
       "      <th>1</th>\n",
       "      <td>ACCT-370</td>\n",
       "      <td>ACCT</td>\n",
       "      <td>370</td>\n",
       "      <td>ACCT</td>\n",
       "      <td>08:00:00</td>\n",
       "      <td>MW</td>\n",
       "      <td>09:50:00</td>\n",
       "      <td>Hopkins, Merle, W</td>\n",
       "      <td>3.783354e+09</td>\n",
       "      <td>ACC303</td>\n",
       "      <td>...</td>\n",
       "      <td>NaN</td>\n",
       "      <td>NaN</td>\n",
       "      <td>NaN</td>\n",
       "      <td>NaN</td>\n",
       "      <td>NaN</td>\n",
       "      <td>14025</td>\n",
       "      <td>1</td>\n",
       "      <td>20153</td>\n",
       "      <td>External Financial Reporting Issues</td>\n",
       "      <td>False</td>\n",
       "    </tr>\n",
       "    <tr>\n",
       "      <th>2</th>\n",
       "      <td>ACCT-370</td>\n",
       "      <td>ACCT</td>\n",
       "      <td>370</td>\n",
       "      <td>ACCT</td>\n",
       "      <td>10:00:00</td>\n",
       "      <td>MW</td>\n",
       "      <td>11:50:00</td>\n",
       "      <td>Hopkins, Merle, W</td>\n",
       "      <td>3.783354e+09</td>\n",
       "      <td>ACC303</td>\n",
       "      <td>...</td>\n",
       "      <td>NaN</td>\n",
       "      <td>NaN</td>\n",
       "      <td>NaN</td>\n",
       "      <td>NaN</td>\n",
       "      <td>NaN</td>\n",
       "      <td>14026</td>\n",
       "      <td>1</td>\n",
       "      <td>20153</td>\n",
       "      <td>External Financial Reporting Issues</td>\n",
       "      <td>False</td>\n",
       "    </tr>\n",
       "    <tr>\n",
       "      <th>3</th>\n",
       "      <td>ACCT-370</td>\n",
       "      <td>ACCT</td>\n",
       "      <td>370</td>\n",
       "      <td>ACCT</td>\n",
       "      <td>12:00:00</td>\n",
       "      <td>MW</td>\n",
       "      <td>13:50:00</td>\n",
       "      <td>Hopkins, Merle, W</td>\n",
       "      <td>3.783354e+09</td>\n",
       "      <td>ACC303</td>\n",
       "      <td>...</td>\n",
       "      <td>NaN</td>\n",
       "      <td>NaN</td>\n",
       "      <td>NaN</td>\n",
       "      <td>NaN</td>\n",
       "      <td>NaN</td>\n",
       "      <td>14027</td>\n",
       "      <td>1</td>\n",
       "      <td>20153</td>\n",
       "      <td>External Financial Reporting Issues</td>\n",
       "      <td>False</td>\n",
       "    </tr>\n",
       "    <tr>\n",
       "      <th>4</th>\n",
       "      <td>ACCT-371</td>\n",
       "      <td>ACCT</td>\n",
       "      <td>371</td>\n",
       "      <td>ACCT</td>\n",
       "      <td>10:00:00</td>\n",
       "      <td>F</td>\n",
       "      <td>11:50:00</td>\n",
       "      <td>NaN</td>\n",
       "      <td>NaN</td>\n",
       "      <td>SLH200</td>\n",
       "      <td>...</td>\n",
       "      <td>NaN</td>\n",
       "      <td>NaN</td>\n",
       "      <td>NaN</td>\n",
       "      <td>NaN</td>\n",
       "      <td>NaN</td>\n",
       "      <td>14044</td>\n",
       "      <td>1</td>\n",
       "      <td>20153</td>\n",
       "      <td>Introduction to Accounting Systems</td>\n",
       "      <td>False</td>\n",
       "    </tr>\n",
       "  </tbody>\n",
       "</table>\n",
       "<p>5 rows × 27 columns</p>\n",
       "</div>"
      ],
      "text/plain": [
       "     Course Course Prefix Course Suffix Department First Begin Time  \\\n",
       "0  ACCT-370          ACCT           370       ACCT         10:00:00   \n",
       "1  ACCT-370          ACCT           370       ACCT         08:00:00   \n",
       "2  ACCT-370          ACCT           370       ACCT         10:00:00   \n",
       "3  ACCT-370          ACCT           370       ACCT         12:00:00   \n",
       "4  ACCT-371          ACCT           371       ACCT         10:00:00   \n",
       "\n",
       "  First Days First End Time   First Instructor  First Instructor UID  \\\n",
       "0          F       11:50:00  Hopkins, Merle, W          3.783354e+09   \n",
       "1         MW       09:50:00  Hopkins, Merle, W          3.783354e+09   \n",
       "2         MW       11:50:00  Hopkins, Merle, W          3.783354e+09   \n",
       "3         MW       13:50:00  Hopkins, Merle, W          3.783354e+09   \n",
       "4          F       11:50:00                NaN                   NaN   \n",
       "\n",
       "  First Room    ...    Second Days  Second End Time  Second Instructor  \\\n",
       "0     SLH200    ...            NaN              NaN                NaN   \n",
       "1     ACC303    ...            NaN              NaN                NaN   \n",
       "2     ACC303    ...            NaN              NaN                NaN   \n",
       "3     ACC303    ...            NaN              NaN                NaN   \n",
       "4     SLH200    ...            NaN              NaN                NaN   \n",
       "\n",
       "  Second Instructor UID  Second Room  Section Session   Term  \\\n",
       "0                   NaN          NaN    14029       1  20153   \n",
       "1                   NaN          NaN    14025       1  20153   \n",
       "2                   NaN          NaN    14026       1  20153   \n",
       "3                   NaN          NaN    14027       1  20153   \n",
       "4                   NaN          NaN    14044       1  20153   \n",
       "\n",
       "                                 Title Cancelled  \n",
       "0  External Financial Reporting Issues     False  \n",
       "1  External Financial Reporting Issues     False  \n",
       "2  External Financial Reporting Issues     False  \n",
       "3  External Financial Reporting Issues     False  \n",
       "4   Introduction to Accounting Systems     False  \n",
       "\n",
       "[5 rows x 27 columns]"
      ]
     },
     "execution_count": 4,
     "metadata": {},
     "output_type": "execute_result"
    }
   ],
   "source": [
    "combined=pd.concat([courses,cancelled],ignore_index=True)\n",
    "combined.head()"
   ]
  },
  {
   "cell_type": "markdown",
   "metadata": {},
   "source": [
    "Once you have done the above, you can run the following command to compare departments by percentage of proposed courses that were cancelled."
   ]
  },
  {
   "cell_type": "code",
   "execution_count": 6,
   "metadata": {},
   "outputs": [
    {
     "data": {
      "text/plain": [
       "<matplotlib.axes._subplots.AxesSubplot at 0x7f3eb1ef3518>"
      ]
     },
     "execution_count": 6,
     "metadata": {},
     "output_type": "execute_result"
    },
    {
     "data": {
      "image/png": "[encoded data removed]",
      "text/plain": [
       "<Figure size 432x288 with 1 Axes>"
      ]
     },
     "metadata": {
      "needs_background": "light"
     },
     "output_type": "display_data"
    }
   ],
   "source": [
    "combined.groupby('Course Prefix')['Cancelled'].mean()\\\n",
    "    .sort_values(ascending=False)\\\n",
    "    .plot(kind='bar',title='Percentage of cancelled course sections')"
   ]
  },
  {
   "cell_type": "markdown",
   "metadata": {},
   "source": [
    "## 2. Merging DataFrames\n",
    "### Setting up"
   ]
  },
  {
   "cell_type": "code",
   "execution_count": 17,
   "metadata": {},
   "outputs": [
    {
     "data": {
      "text/html": [
       "<div>\n",
       "<style scoped>\n",
       "    .dataframe tbody tr th:only-of-type {\n",
       "        vertical-align: middle;\n",
       "    }\n",
       "\n",
       "    .dataframe tbody tr th {\n",
       "        vertical-align: top;\n",
       "    }\n",
       "\n",
       "    .dataframe thead th {\n",
       "        text-align: right;\n",
       "    }\n",
       "</style>\n",
       "<table border=\"1\" class=\"dataframe\">\n",
       "  <thead>\n",
       "    <tr style=\"text-align: right;\">\n",
       "      <th></th>\n",
       "      <th>First Room</th>\n",
       "      <th>Seats</th>\n",
       "      <th>Reg Count</th>\n",
       "    </tr>\n",
       "  </thead>\n",
       "  <tbody>\n",
       "    <tr>\n",
       "      <th>0</th>\n",
       "      <td>SLH200</td>\n",
       "      <td>135</td>\n",
       "      <td>106</td>\n",
       "    </tr>\n",
       "    <tr>\n",
       "      <th>1</th>\n",
       "      <td>ACC303</td>\n",
       "      <td>42</td>\n",
       "      <td>24</td>\n",
       "    </tr>\n",
       "    <tr>\n",
       "      <th>2</th>\n",
       "      <td>ACC303</td>\n",
       "      <td>42</td>\n",
       "      <td>40</td>\n",
       "    </tr>\n",
       "  </tbody>\n",
       "</table>\n",
       "</div>"
      ],
      "text/plain": [
       "  First Room  Seats  Reg Count\n",
       "0     SLH200    135        106\n",
       "1     ACC303     42         24\n",
       "2     ACC303     42         40"
      ]
     },
     "execution_count": 17,
     "metadata": {},
     "output_type": "execute_result"
    }
   ],
   "source": [
    "courses_small=courses[['First Room','Seats','Reg Count']].head(3)\n",
    "courses_small"
   ]
  },
  {
   "cell_type": "code",
   "execution_count": 18,
   "metadata": {},
   "outputs": [
    {
     "data": {
      "text/html": [
       "<div>\n",
       "<style scoped>\n",
       "    .dataframe tbody tr th:only-of-type {\n",
       "        vertical-align: middle;\n",
       "    }\n",
       "\n",
       "    .dataframe tbody tr th {\n",
       "        vertical-align: top;\n",
       "    }\n",
       "\n",
       "    .dataframe thead th {\n",
       "        text-align: right;\n",
       "    }\n",
       "</style>\n",
       "<table border=\"1\" class=\"dataframe\">\n",
       "  <thead>\n",
       "    <tr style=\"text-align: right;\">\n",
       "      <th></th>\n",
       "      <th>Room</th>\n",
       "      <th>Size</th>\n",
       "    </tr>\n",
       "  </thead>\n",
       "  <tbody>\n",
       "    <tr>\n",
       "      <th>0</th>\n",
       "      <td>ACC303</td>\n",
       "      <td>46</td>\n",
       "    </tr>\n",
       "    <tr>\n",
       "      <th>1</th>\n",
       "      <td>JKP102</td>\n",
       "      <td>52</td>\n",
       "    </tr>\n",
       "  </tbody>\n",
       "</table>\n",
       "</div>"
      ],
      "text/plain": [
       "     Room  Size\n",
       "0  ACC303    46\n",
       "1  JKP102    52"
      ]
     },
     "execution_count": 18,
     "metadata": {},
     "output_type": "execute_result"
    }
   ],
   "source": [
    "rooms=pd.DataFrame([['ACC303', 46],['JKP102',52]],columns=['Room','Size'])\n",
    "rooms"
   ]
  },
  {
   "cell_type": "markdown",
   "metadata": {},
   "source": [
    "### Four kinds of merges"
   ]
  },
  {
   "cell_type": "code",
   "execution_count": 19,
   "metadata": {},
   "outputs": [
    {
     "data": {
      "text/html": [
       "<div>\n",
       "<style scoped>\n",
       "    .dataframe tbody tr th:only-of-type {\n",
       "        vertical-align: middle;\n",
       "    }\n",
       "\n",
       "    .dataframe tbody tr th {\n",
       "        vertical-align: top;\n",
       "    }\n",
       "\n",
       "    .dataframe thead th {\n",
       "        text-align: right;\n",
       "    }\n",
       "</style>\n",
       "<table border=\"1\" class=\"dataframe\">\n",
       "  <thead>\n",
       "    <tr style=\"text-align: right;\">\n",
       "      <th></th>\n",
       "      <th>First Room</th>\n",
       "      <th>Seats</th>\n",
       "      <th>Reg Count</th>\n",
       "      <th>Room</th>\n",
       "      <th>Size</th>\n",
       "    </tr>\n",
       "  </thead>\n",
       "  <tbody>\n",
       "    <tr>\n",
       "      <th>0</th>\n",
       "      <td>ACC303</td>\n",
       "      <td>42</td>\n",
       "      <td>24</td>\n",
       "      <td>ACC303</td>\n",
       "      <td>46</td>\n",
       "    </tr>\n",
       "    <tr>\n",
       "      <th>1</th>\n",
       "      <td>ACC303</td>\n",
       "      <td>42</td>\n",
       "      <td>40</td>\n",
       "      <td>ACC303</td>\n",
       "      <td>46</td>\n",
       "    </tr>\n",
       "  </tbody>\n",
       "</table>\n",
       "</div>"
      ],
      "text/plain": [
       "  First Room  Seats  Reg Count    Room  Size\n",
       "0     ACC303     42         24  ACC303    46\n",
       "1     ACC303     42         40  ACC303    46"
      ]
     },
     "execution_count": 19,
     "metadata": {},
     "output_type": "execute_result"
    }
   ],
   "source": [
    "courses_small.merge(rooms,left_on='First Room',right_on='Room')"
   ]
  },
  {
   "cell_type": "code",
   "execution_count": 20,
   "metadata": {},
   "outputs": [
    {
     "data": {
      "text/html": [
       "<div>\n",
       "<style scoped>\n",
       "    .dataframe tbody tr th:only-of-type {\n",
       "        vertical-align: middle;\n",
       "    }\n",
       "\n",
       "    .dataframe tbody tr th {\n",
       "        vertical-align: top;\n",
       "    }\n",
       "\n",
       "    .dataframe thead th {\n",
       "        text-align: right;\n",
       "    }\n",
       "</style>\n",
       "<table border=\"1\" class=\"dataframe\">\n",
       "  <thead>\n",
       "    <tr style=\"text-align: right;\">\n",
       "      <th></th>\n",
       "      <th>First Room</th>\n",
       "      <th>Seats</th>\n",
       "      <th>Reg Count</th>\n",
       "      <th>Room</th>\n",
       "      <th>Size</th>\n",
       "    </tr>\n",
       "  </thead>\n",
       "  <tbody>\n",
       "    <tr>\n",
       "      <th>0</th>\n",
       "      <td>SLH200</td>\n",
       "      <td>135</td>\n",
       "      <td>106</td>\n",
       "      <td>NaN</td>\n",
       "      <td>NaN</td>\n",
       "    </tr>\n",
       "    <tr>\n",
       "      <th>1</th>\n",
       "      <td>ACC303</td>\n",
       "      <td>42</td>\n",
       "      <td>24</td>\n",
       "      <td>ACC303</td>\n",
       "      <td>46.0</td>\n",
       "    </tr>\n",
       "    <tr>\n",
       "      <th>2</th>\n",
       "      <td>ACC303</td>\n",
       "      <td>42</td>\n",
       "      <td>40</td>\n",
       "      <td>ACC303</td>\n",
       "      <td>46.0</td>\n",
       "    </tr>\n",
       "  </tbody>\n",
       "</table>\n",
       "</div>"
      ],
      "text/plain": [
       "  First Room  Seats  Reg Count    Room  Size\n",
       "0     SLH200    135        106     NaN   NaN\n",
       "1     ACC303     42         24  ACC303  46.0\n",
       "2     ACC303     42         40  ACC303  46.0"
      ]
     },
     "execution_count": 20,
     "metadata": {},
     "output_type": "execute_result"
    }
   ],
   "source": [
    "courses_small.merge(rooms,left_on='First Room',right_on='Room',how='left')"
   ]
  },
  {
   "cell_type": "code",
   "execution_count": 21,
   "metadata": {},
   "outputs": [
    {
     "data": {
      "text/html": [
       "<div>\n",
       "<style scoped>\n",
       "    .dataframe tbody tr th:only-of-type {\n",
       "        vertical-align: middle;\n",
       "    }\n",
       "\n",
       "    .dataframe tbody tr th {\n",
       "        vertical-align: top;\n",
       "    }\n",
       "\n",
       "    .dataframe thead th {\n",
       "        text-align: right;\n",
       "    }\n",
       "</style>\n",
       "<table border=\"1\" class=\"dataframe\">\n",
       "  <thead>\n",
       "    <tr style=\"text-align: right;\">\n",
       "      <th></th>\n",
       "      <th>First Room</th>\n",
       "      <th>Seats</th>\n",
       "      <th>Reg Count</th>\n",
       "      <th>Room</th>\n",
       "      <th>Size</th>\n",
       "    </tr>\n",
       "  </thead>\n",
       "  <tbody>\n",
       "    <tr>\n",
       "      <th>0</th>\n",
       "      <td>ACC303</td>\n",
       "      <td>42.0</td>\n",
       "      <td>24.0</td>\n",
       "      <td>ACC303</td>\n",
       "      <td>46</td>\n",
       "    </tr>\n",
       "    <tr>\n",
       "      <th>1</th>\n",
       "      <td>ACC303</td>\n",
       "      <td>42.0</td>\n",
       "      <td>40.0</td>\n",
       "      <td>ACC303</td>\n",
       "      <td>46</td>\n",
       "    </tr>\n",
       "    <tr>\n",
       "      <th>2</th>\n",
       "      <td>NaN</td>\n",
       "      <td>NaN</td>\n",
       "      <td>NaN</td>\n",
       "      <td>JKP102</td>\n",
       "      <td>52</td>\n",
       "    </tr>\n",
       "  </tbody>\n",
       "</table>\n",
       "</div>"
      ],
      "text/plain": [
       "  First Room  Seats  Reg Count    Room  Size\n",
       "0     ACC303   42.0       24.0  ACC303    46\n",
       "1     ACC303   42.0       40.0  ACC303    46\n",
       "2        NaN    NaN        NaN  JKP102    52"
      ]
     },
     "execution_count": 21,
     "metadata": {},
     "output_type": "execute_result"
    }
   ],
   "source": [
    "courses_small.merge(rooms,left_on='First Room',right_on='Room',how='right')"
   ]
  },
  {
   "cell_type": "code",
   "execution_count": 22,
   "metadata": {},
   "outputs": [
    {
     "data": {
      "text/html": [
       "<div>\n",
       "<style scoped>\n",
       "    .dataframe tbody tr th:only-of-type {\n",
       "        vertical-align: middle;\n",
       "    }\n",
       "\n",
       "    .dataframe tbody tr th {\n",
       "        vertical-align: top;\n",
       "    }\n",
       "\n",
       "    .dataframe thead th {\n",
       "        text-align: right;\n",
       "    }\n",
       "</style>\n",
       "<table border=\"1\" class=\"dataframe\">\n",
       "  <thead>\n",
       "    <tr style=\"text-align: right;\">\n",
       "      <th></th>\n",
       "      <th>First Room</th>\n",
       "      <th>Seats</th>\n",
       "      <th>Reg Count</th>\n",
       "      <th>Room</th>\n",
       "      <th>Size</th>\n",
       "    </tr>\n",
       "  </thead>\n",
       "  <tbody>\n",
       "    <tr>\n",
       "      <th>0</th>\n",
       "      <td>SLH200</td>\n",
       "      <td>135.0</td>\n",
       "      <td>106.0</td>\n",
       "      <td>NaN</td>\n",
       "      <td>NaN</td>\n",
       "    </tr>\n",
       "    <tr>\n",
       "      <th>1</th>\n",
       "      <td>ACC303</td>\n",
       "      <td>42.0</td>\n",
       "      <td>24.0</td>\n",
       "      <td>ACC303</td>\n",
       "      <td>46.0</td>\n",
       "    </tr>\n",
       "    <tr>\n",
       "      <th>2</th>\n",
       "      <td>ACC303</td>\n",
       "      <td>42.0</td>\n",
       "      <td>40.0</td>\n",
       "      <td>ACC303</td>\n",
       "      <td>46.0</td>\n",
       "    </tr>\n",
       "    <tr>\n",
       "      <th>3</th>\n",
       "      <td>NaN</td>\n",
       "      <td>NaN</td>\n",
       "      <td>NaN</td>\n",
       "      <td>JKP102</td>\n",
       "      <td>52.0</td>\n",
       "    </tr>\n",
       "  </tbody>\n",
       "</table>\n",
       "</div>"
      ],
      "text/plain": [
       "  First Room  Seats  Reg Count    Room  Size\n",
       "0     SLH200  135.0      106.0     NaN   NaN\n",
       "1     ACC303   42.0       24.0  ACC303  46.0\n",
       "2     ACC303   42.0       40.0  ACC303  46.0\n",
       "3        NaN    NaN        NaN  JKP102  52.0"
      ]
     },
     "execution_count": 22,
     "metadata": {},
     "output_type": "execute_result"
    }
   ],
   "source": [
    "courses_small.merge(rooms,left_on='First Room',right_on='Room',how='outer')"
   ]
  },
  {
   "cell_type": "markdown",
   "metadata": {},
   "source": [
    "**Q2:** In your own words, explain to your neighbor the difference between the following settings of \"how\" in the merge function: inner (default), left, right, and outer."
   ]
  },
  {
   "cell_type": "markdown",
   "metadata": {},
   "source": [
    "**Answer:** \n",
    "\n",
    "- inner: only keep rows in which there is a successful match between the two DataFrames.\n",
    "- left: keep every row in the left DataFrame, but only keep rows in the right DataFrame that match to the left.\n",
    "- right: keep every row in the right DataFrame, but only keep rows in the left DataFrame that match to the right.\n",
    "- outer: keep every row in both DataFrames."
   ]
  },
  {
   "cell_type": "markdown",
   "metadata": {},
   "source": [
    "### Merging by Index"
   ]
  },
  {
   "cell_type": "code",
   "execution_count": 23,
   "metadata": {},
   "outputs": [
    {
     "data": {
      "text/html": [
       "<div>\n",
       "<style scoped>\n",
       "    .dataframe tbody tr th:only-of-type {\n",
       "        vertical-align: middle;\n",
       "    }\n",
       "\n",
       "    .dataframe tbody tr th {\n",
       "        vertical-align: top;\n",
       "    }\n",
       "\n",
       "    .dataframe thead th {\n",
       "        text-align: right;\n",
       "    }\n",
       "</style>\n",
       "<table border=\"1\" class=\"dataframe\">\n",
       "  <thead>\n",
       "    <tr style=\"text-align: right;\">\n",
       "      <th></th>\n",
       "      <th>First Room</th>\n",
       "      <th>Seats</th>\n",
       "      <th>Reg Count</th>\n",
       "      <th>Room</th>\n",
       "      <th>Size</th>\n",
       "    </tr>\n",
       "  </thead>\n",
       "  <tbody>\n",
       "    <tr>\n",
       "      <th>0</th>\n",
       "      <td>SLH200</td>\n",
       "      <td>135</td>\n",
       "      <td>106</td>\n",
       "      <td>ACC303</td>\n",
       "      <td>46</td>\n",
       "    </tr>\n",
       "    <tr>\n",
       "      <th>1</th>\n",
       "      <td>ACC303</td>\n",
       "      <td>42</td>\n",
       "      <td>24</td>\n",
       "      <td>JKP102</td>\n",
       "      <td>52</td>\n",
       "    </tr>\n",
       "  </tbody>\n",
       "</table>\n",
       "</div>"
      ],
      "text/plain": [
       "  First Room  Seats  Reg Count    Room  Size\n",
       "0     SLH200    135        106  ACC303    46\n",
       "1     ACC303     42         24  JKP102    52"
      ]
     },
     "execution_count": 23,
     "metadata": {},
     "output_type": "execute_result"
    }
   ],
   "source": [
    "# Merging on row labels instead of column values\n",
    "courses_small.merge(rooms,left_index=True,right_index=True)"
   ]
  },
  {
   "cell_type": "markdown",
   "metadata": {},
   "source": [
    "### Merging by Multiple Columns"
   ]
  },
  {
   "cell_type": "code",
   "execution_count": 24,
   "metadata": {},
   "outputs": [
    {
     "data": {
      "text/html": [
       "<div>\n",
       "<style scoped>\n",
       "    .dataframe tbody tr th:only-of-type {\n",
       "        vertical-align: middle;\n",
       "    }\n",
       "\n",
       "    .dataframe tbody tr th {\n",
       "        vertical-align: top;\n",
       "    }\n",
       "\n",
       "    .dataframe thead th {\n",
       "        text-align: right;\n",
       "    }\n",
       "</style>\n",
       "<table border=\"1\" class=\"dataframe\">\n",
       "  <thead>\n",
       "    <tr style=\"text-align: right;\">\n",
       "      <th></th>\n",
       "      <th>First Room</th>\n",
       "      <th>Seats</th>\n",
       "      <th>Reg Count</th>\n",
       "      <th>Building</th>\n",
       "      <th>Room</th>\n",
       "    </tr>\n",
       "  </thead>\n",
       "  <tbody>\n",
       "    <tr>\n",
       "      <th>0</th>\n",
       "      <td>SLH200</td>\n",
       "      <td>135</td>\n",
       "      <td>106</td>\n",
       "      <td>SLH</td>\n",
       "      <td>200</td>\n",
       "    </tr>\n",
       "    <tr>\n",
       "      <th>1</th>\n",
       "      <td>ACC303</td>\n",
       "      <td>42</td>\n",
       "      <td>24</td>\n",
       "      <td>ACC</td>\n",
       "      <td>303</td>\n",
       "    </tr>\n",
       "    <tr>\n",
       "      <th>2</th>\n",
       "      <td>ACC303</td>\n",
       "      <td>42</td>\n",
       "      <td>40</td>\n",
       "      <td>ACC</td>\n",
       "      <td>303</td>\n",
       "    </tr>\n",
       "  </tbody>\n",
       "</table>\n",
       "</div>"
      ],
      "text/plain": [
       "  First Room  Seats  Reg Count Building  Room\n",
       "0     SLH200    135        106      SLH   200\n",
       "1     ACC303     42         24      ACC   303\n",
       "2     ACC303     42         40      ACC   303"
      ]
     },
     "execution_count": 24,
     "metadata": {},
     "output_type": "execute_result"
    }
   ],
   "source": [
    "courses_small['Building']=courses_small['First Room'].str.slice(0,3)\n",
    "courses_small['Room']=courses_small['First Room'].str.slice(3).astype(int)\n",
    "courses_small"
   ]
  },
  {
   "cell_type": "code",
   "execution_count": 25,
   "metadata": {},
   "outputs": [
    {
     "data": {
      "text/html": [
       "<div>\n",
       "<style scoped>\n",
       "    .dataframe tbody tr th:only-of-type {\n",
       "        vertical-align: middle;\n",
       "    }\n",
       "\n",
       "    .dataframe tbody tr th {\n",
       "        vertical-align: top;\n",
       "    }\n",
       "\n",
       "    .dataframe thead th {\n",
       "        text-align: right;\n",
       "    }\n",
       "</style>\n",
       "<table border=\"1\" class=\"dataframe\">\n",
       "  <thead>\n",
       "    <tr style=\"text-align: right;\">\n",
       "      <th></th>\n",
       "      <th>Building</th>\n",
       "      <th>Room</th>\n",
       "      <th>Size</th>\n",
       "    </tr>\n",
       "  </thead>\n",
       "  <tbody>\n",
       "    <tr>\n",
       "      <th>0</th>\n",
       "      <td>ACC</td>\n",
       "      <td>303</td>\n",
       "      <td>46</td>\n",
       "    </tr>\n",
       "    <tr>\n",
       "      <th>1</th>\n",
       "      <td>JKP</td>\n",
       "      <td>102</td>\n",
       "      <td>52</td>\n",
       "    </tr>\n",
       "  </tbody>\n",
       "</table>\n",
       "</div>"
      ],
      "text/plain": [
       "  Building  Room  Size\n",
       "0      ACC   303    46\n",
       "1      JKP   102    52"
      ]
     },
     "execution_count": 25,
     "metadata": {},
     "output_type": "execute_result"
    }
   ],
   "source": [
    "rooms2=pd.DataFrame([['ACC',303, 46],['JKP',102,52]]\\\n",
    "                        ,columns=['Building','Room','Size'])\n",
    "rooms2"
   ]
  },
  {
   "cell_type": "code",
   "execution_count": 26,
   "metadata": {},
   "outputs": [
    {
     "data": {
      "text/html": [
       "<div>\n",
       "<style scoped>\n",
       "    .dataframe tbody tr th:only-of-type {\n",
       "        vertical-align: middle;\n",
       "    }\n",
       "\n",
       "    .dataframe tbody tr th {\n",
       "        vertical-align: top;\n",
       "    }\n",
       "\n",
       "    .dataframe thead th {\n",
       "        text-align: right;\n",
       "    }\n",
       "</style>\n",
       "<table border=\"1\" class=\"dataframe\">\n",
       "  <thead>\n",
       "    <tr style=\"text-align: right;\">\n",
       "      <th></th>\n",
       "      <th>First Room</th>\n",
       "      <th>Seats</th>\n",
       "      <th>Reg Count</th>\n",
       "      <th>Building</th>\n",
       "      <th>Room</th>\n",
       "      <th>Size</th>\n",
       "    </tr>\n",
       "  </thead>\n",
       "  <tbody>\n",
       "    <tr>\n",
       "      <th>0</th>\n",
       "      <td>ACC303</td>\n",
       "      <td>42</td>\n",
       "      <td>24</td>\n",
       "      <td>ACC</td>\n",
       "      <td>303</td>\n",
       "      <td>46</td>\n",
       "    </tr>\n",
       "    <tr>\n",
       "      <th>1</th>\n",
       "      <td>ACC303</td>\n",
       "      <td>42</td>\n",
       "      <td>40</td>\n",
       "      <td>ACC</td>\n",
       "      <td>303</td>\n",
       "      <td>46</td>\n",
       "    </tr>\n",
       "  </tbody>\n",
       "</table>\n",
       "</div>"
      ],
      "text/plain": [
       "  First Room  Seats  Reg Count Building  Room  Size\n",
       "0     ACC303     42         24      ACC   303    46\n",
       "1     ACC303     42         40      ACC   303    46"
      ]
     },
     "execution_count": 26,
     "metadata": {},
     "output_type": "execute_result"
    }
   ],
   "source": [
    "courses_small.merge(rooms2,left_on=['Building','Room']\\\n",
    "                    ,right_on=['Building','Room'])"
   ]
  },
  {
   "cell_type": "code",
   "execution_count": 27,
   "metadata": {},
   "outputs": [
    {
     "data": {
      "text/html": [
       "<div>\n",
       "<style scoped>\n",
       "    .dataframe tbody tr th:only-of-type {\n",
       "        vertical-align: middle;\n",
       "    }\n",
       "\n",
       "    .dataframe tbody tr th {\n",
       "        vertical-align: top;\n",
       "    }\n",
       "\n",
       "    .dataframe thead th {\n",
       "        text-align: right;\n",
       "    }\n",
       "</style>\n",
       "<table border=\"1\" class=\"dataframe\">\n",
       "  <thead>\n",
       "    <tr style=\"text-align: right;\">\n",
       "      <th></th>\n",
       "      <th>First Room</th>\n",
       "      <th>Seats</th>\n",
       "      <th>Reg Count</th>\n",
       "      <th>Building</th>\n",
       "      <th>Room</th>\n",
       "      <th>Size</th>\n",
       "    </tr>\n",
       "  </thead>\n",
       "  <tbody>\n",
       "    <tr>\n",
       "      <th>0</th>\n",
       "      <td>ACC303</td>\n",
       "      <td>42</td>\n",
       "      <td>24</td>\n",
       "      <td>ACC</td>\n",
       "      <td>303</td>\n",
       "      <td>46</td>\n",
       "    </tr>\n",
       "    <tr>\n",
       "      <th>1</th>\n",
       "      <td>ACC303</td>\n",
       "      <td>42</td>\n",
       "      <td>40</td>\n",
       "      <td>ACC</td>\n",
       "      <td>303</td>\n",
       "      <td>46</td>\n",
       "    </tr>\n",
       "  </tbody>\n",
       "</table>\n",
       "</div>"
      ],
      "text/plain": [
       "  First Room  Seats  Reg Count Building  Room  Size\n",
       "0     ACC303     42         24      ACC   303    46\n",
       "1     ACC303     42         40      ACC   303    46"
      ]
     },
     "execution_count": 27,
     "metadata": {},
     "output_type": "execute_result"
    }
   ],
   "source": [
    "# Identical to the above if column names are the same in both DataFrames\n",
    "courses_small.merge(rooms2,on=['Building','Room'])"
   ]
  },
  {
   "cell_type": "markdown",
   "metadata": {},
   "source": [
    "## Case 9: Efficiency of Room Use in Marshall Course Scheduling\n",
    "\n",
    "Run the following two cells to load in a smaller version of the scheduling data as well as the rooms data."
   ]
  },
  {
   "cell_type": "code",
   "execution_count": 28,
   "metadata": {},
   "outputs": [
    {
     "data": {
      "text/html": [
       "<div>\n",
       "<style scoped>\n",
       "    .dataframe tbody tr th:only-of-type {\n",
       "        vertical-align: middle;\n",
       "    }\n",
       "\n",
       "    .dataframe tbody tr th {\n",
       "        vertical-align: top;\n",
       "    }\n",
       "\n",
       "    .dataframe thead th {\n",
       "        text-align: right;\n",
       "    }\n",
       "</style>\n",
       "<table border=\"1\" class=\"dataframe\">\n",
       "  <thead>\n",
       "    <tr style=\"text-align: right;\">\n",
       "      <th></th>\n",
       "      <th>Term</th>\n",
       "      <th>Course</th>\n",
       "      <th>Section</th>\n",
       "      <th>Title</th>\n",
       "      <th>First Room</th>\n",
       "      <th>Department</th>\n",
       "      <th>Reg Count</th>\n",
       "      <th>Seats</th>\n",
       "    </tr>\n",
       "  </thead>\n",
       "  <tbody>\n",
       "    <tr>\n",
       "      <th>0</th>\n",
       "      <td>20153</td>\n",
       "      <td>ACCT-370</td>\n",
       "      <td>14029</td>\n",
       "      <td>External Financial Reporting Issues</td>\n",
       "      <td>SLH200</td>\n",
       "      <td>ACCT</td>\n",
       "      <td>106</td>\n",
       "      <td>135</td>\n",
       "    </tr>\n",
       "    <tr>\n",
       "      <th>1</th>\n",
       "      <td>20153</td>\n",
       "      <td>ACCT-370</td>\n",
       "      <td>14025</td>\n",
       "      <td>External Financial Reporting Issues</td>\n",
       "      <td>ACC303</td>\n",
       "      <td>ACCT</td>\n",
       "      <td>24</td>\n",
       "      <td>42</td>\n",
       "    </tr>\n",
       "    <tr>\n",
       "      <th>2</th>\n",
       "      <td>20153</td>\n",
       "      <td>ACCT-370</td>\n",
       "      <td>14026</td>\n",
       "      <td>External Financial Reporting Issues</td>\n",
       "      <td>ACC303</td>\n",
       "      <td>ACCT</td>\n",
       "      <td>40</td>\n",
       "      <td>42</td>\n",
       "    </tr>\n",
       "    <tr>\n",
       "      <th>3</th>\n",
       "      <td>20153</td>\n",
       "      <td>ACCT-370</td>\n",
       "      <td>14027</td>\n",
       "      <td>External Financial Reporting Issues</td>\n",
       "      <td>ACC303</td>\n",
       "      <td>ACCT</td>\n",
       "      <td>42</td>\n",
       "      <td>42</td>\n",
       "    </tr>\n",
       "    <tr>\n",
       "      <th>4</th>\n",
       "      <td>20153</td>\n",
       "      <td>ACCT-371</td>\n",
       "      <td>14044</td>\n",
       "      <td>Introduction to Accounting Systems</td>\n",
       "      <td>SLH200</td>\n",
       "      <td>ACCT</td>\n",
       "      <td>110</td>\n",
       "      <td>150</td>\n",
       "    </tr>\n",
       "  </tbody>\n",
       "</table>\n",
       "</div>"
      ],
      "text/plain": [
       "    Term    Course  Section                                Title First Room  \\\n",
       "0  20153  ACCT-370    14029  External Financial Reporting Issues     SLH200   \n",
       "1  20153  ACCT-370    14025  External Financial Reporting Issues     ACC303   \n",
       "2  20153  ACCT-370    14026  External Financial Reporting Issues     ACC303   \n",
       "3  20153  ACCT-370    14027  External Financial Reporting Issues     ACC303   \n",
       "4  20153  ACCT-371    14044   Introduction to Accounting Systems     SLH200   \n",
       "\n",
       "  Department  Reg Count  Seats  \n",
       "0       ACCT        106    135  \n",
       "1       ACCT         24     42  \n",
       "2       ACCT         40     42  \n",
       "3       ACCT         42     42  \n",
       "4       ACCT        110    150  "
      ]
     },
     "execution_count": 28,
     "metadata": {},
     "output_type": "execute_result"
    }
   ],
   "source": [
    "data=pd.read_excel('Marshall_Course_Enrollment_1516_1617.xlsx')\\\n",
    "   [['Term','Course','Section','Title','First Room','Department','Reg Count','Seats']]\n",
    "data.head()"
   ]
  },
  {
   "cell_type": "code",
   "execution_count": 29,
   "metadata": {},
   "outputs": [
    {
     "data": {
      "text/html": [
       "<div>\n",
       "<style scoped>\n",
       "    .dataframe tbody tr th:only-of-type {\n",
       "        vertical-align: middle;\n",
       "    }\n",
       "\n",
       "    .dataframe tbody tr th {\n",
       "        vertical-align: top;\n",
       "    }\n",
       "\n",
       "    .dataframe thead th {\n",
       "        text-align: right;\n",
       "    }\n",
       "</style>\n",
       "<table border=\"1\" class=\"dataframe\">\n",
       "  <thead>\n",
       "    <tr style=\"text-align: right;\">\n",
       "      <th></th>\n",
       "      <th>Room</th>\n",
       "      <th>Size</th>\n",
       "    </tr>\n",
       "  </thead>\n",
       "  <tbody>\n",
       "    <tr>\n",
       "      <th>0</th>\n",
       "      <td>ACC 306B</td>\n",
       "      <td>16</td>\n",
       "    </tr>\n",
       "    <tr>\n",
       "      <th>1</th>\n",
       "      <td>ACC201</td>\n",
       "      <td>48</td>\n",
       "    </tr>\n",
       "    <tr>\n",
       "      <th>2</th>\n",
       "      <td>ACC205</td>\n",
       "      <td>36</td>\n",
       "    </tr>\n",
       "    <tr>\n",
       "      <th>3</th>\n",
       "      <td>ACC236</td>\n",
       "      <td>39</td>\n",
       "    </tr>\n",
       "    <tr>\n",
       "      <th>4</th>\n",
       "      <td>ACC303</td>\n",
       "      <td>46</td>\n",
       "    </tr>\n",
       "  </tbody>\n",
       "</table>\n",
       "</div>"
      ],
      "text/plain": [
       "       Room  Size\n",
       "0  ACC 306B    16\n",
       "1    ACC201    48\n",
       "2    ACC205    36\n",
       "3    ACC236    39\n",
       "4    ACC303    46"
      ]
     },
     "execution_count": 29,
     "metadata": {},
     "output_type": "execute_result"
    }
   ],
   "source": [
    "rooms=pd.read_excel('Marshall_Room_Capacity_Chart.xlsx',usecols=range(2))\n",
    "rooms.head()"
   ]
  },
  {
   "cell_type": "markdown",
   "metadata": {},
   "source": [
    "**Create a DataFrame called \"data2\" from an inner merge of the \"data\" DataFrame and the \"rooms\" DataFrame. Add a new column in \"data2\" called \"ExtraSpace\" which is the \"Size\" minus the \"Seats\" columns.**"
   ]
  },
  {
   "cell_type": "code",
   "execution_count": 30,
   "metadata": {},
   "outputs": [
    {
     "data": {
      "text/html": [
       "<div>\n",
       "<style scoped>\n",
       "    .dataframe tbody tr th:only-of-type {\n",
       "        vertical-align: middle;\n",
       "    }\n",
       "\n",
       "    .dataframe tbody tr th {\n",
       "        vertical-align: top;\n",
       "    }\n",
       "\n",
       "    .dataframe thead th {\n",
       "        text-align: right;\n",
       "    }\n",
       "</style>\n",
       "<table border=\"1\" class=\"dataframe\">\n",
       "  <thead>\n",
       "    <tr style=\"text-align: right;\">\n",
       "      <th></th>\n",
       "      <th>Term</th>\n",
       "      <th>Course</th>\n",
       "      <th>Section</th>\n",
       "      <th>Title</th>\n",
       "      <th>First Room</th>\n",
       "      <th>Department</th>\n",
       "      <th>Reg Count</th>\n",
       "      <th>Seats</th>\n",
       "      <th>Room</th>\n",
       "      <th>Size</th>\n",
       "      <th>ExtraSpace</th>\n",
       "    </tr>\n",
       "  </thead>\n",
       "  <tbody>\n",
       "    <tr>\n",
       "      <th>0</th>\n",
       "      <td>20153</td>\n",
       "      <td>ACCT-370</td>\n",
       "      <td>14025</td>\n",
       "      <td>External Financial Reporting Issues</td>\n",
       "      <td>ACC303</td>\n",
       "      <td>ACCT</td>\n",
       "      <td>24</td>\n",
       "      <td>42</td>\n",
       "      <td>ACC303</td>\n",
       "      <td>46</td>\n",
       "      <td>4</td>\n",
       "    </tr>\n",
       "    <tr>\n",
       "      <th>1</th>\n",
       "      <td>20153</td>\n",
       "      <td>ACCT-370</td>\n",
       "      <td>14026</td>\n",
       "      <td>External Financial Reporting Issues</td>\n",
       "      <td>ACC303</td>\n",
       "      <td>ACCT</td>\n",
       "      <td>40</td>\n",
       "      <td>42</td>\n",
       "      <td>ACC303</td>\n",
       "      <td>46</td>\n",
       "      <td>4</td>\n",
       "    </tr>\n",
       "    <tr>\n",
       "      <th>2</th>\n",
       "      <td>20153</td>\n",
       "      <td>ACCT-370</td>\n",
       "      <td>14027</td>\n",
       "      <td>External Financial Reporting Issues</td>\n",
       "      <td>ACC303</td>\n",
       "      <td>ACCT</td>\n",
       "      <td>42</td>\n",
       "      <td>42</td>\n",
       "      <td>ACC303</td>\n",
       "      <td>46</td>\n",
       "      <td>4</td>\n",
       "    </tr>\n",
       "    <tr>\n",
       "      <th>3</th>\n",
       "      <td>20153</td>\n",
       "      <td>ACCT-371</td>\n",
       "      <td>14040</td>\n",
       "      <td>Introduction to Accounting Systems</td>\n",
       "      <td>ACC303</td>\n",
       "      <td>ACCT</td>\n",
       "      <td>29</td>\n",
       "      <td>42</td>\n",
       "      <td>ACC303</td>\n",
       "      <td>46</td>\n",
       "      <td>4</td>\n",
       "    </tr>\n",
       "    <tr>\n",
       "      <th>4</th>\n",
       "      <td>20153</td>\n",
       "      <td>ACCT-371</td>\n",
       "      <td>14042</td>\n",
       "      <td>Introduction to Accounting Systems</td>\n",
       "      <td>ACC303</td>\n",
       "      <td>ACCT</td>\n",
       "      <td>40</td>\n",
       "      <td>42</td>\n",
       "      <td>ACC303</td>\n",
       "      <td>46</td>\n",
       "      <td>4</td>\n",
       "    </tr>\n",
       "  </tbody>\n",
       "</table>\n",
       "</div>"
      ],
      "text/plain": [
       "    Term    Course  Section                                Title First Room  \\\n",
       "0  20153  ACCT-370    14025  External Financial Reporting Issues     ACC303   \n",
       "1  20153  ACCT-370    14026  External Financial Reporting Issues     ACC303   \n",
       "2  20153  ACCT-370    14027  External Financial Reporting Issues     ACC303   \n",
       "3  20153  ACCT-371    14040   Introduction to Accounting Systems     ACC303   \n",
       "4  20153  ACCT-371    14042   Introduction to Accounting Systems     ACC303   \n",
       "\n",
       "  Department  Reg Count  Seats    Room  Size  ExtraSpace  \n",
       "0       ACCT         24     42  ACC303    46           4  \n",
       "1       ACCT         40     42  ACC303    46           4  \n",
       "2       ACCT         42     42  ACC303    46           4  \n",
       "3       ACCT         29     42  ACC303    46           4  \n",
       "4       ACCT         40     42  ACC303    46           4  "
      ]
     },
     "execution_count": 30,
     "metadata": {},
     "output_type": "execute_result"
    }
   ],
   "source": [
    "data2=data.merge(rooms,left_on='First Room',right_on='Room')\n",
    "data2['ExtraSpace']=data2['Size']-data2['Seats']\n",
    "data2.head()"
   ]
  },
  {
   "cell_type": "markdown",
   "metadata": {},
   "source": [
    "Once you finish the above, you can compare the wastage in room assignment by term and by department."
   ]
  },
  {
   "cell_type": "code",
   "execution_count": 31,
   "metadata": {},
   "outputs": [
    {
     "data": {
      "image/png": "[encoded data removed]",
      "text/plain": [
       "<Figure size 432x288 with 1 Axes>"
      ]
     },
     "metadata": {
      "needs_background": "light"
     },
     "output_type": "display_data"
    }
   ],
   "source": [
    "import seaborn as sns\n",
    "sns.boxplot(x='Term',y='ExtraSpace',data=data2)"
   ]
  },
  {
   "cell_type": "code",
   "execution_count": 41,
   "metadata": {},
   "outputs": [
    {
     "data": {
      "image/png": "[encoded data removed]",
      "text/plain": [
       "<Figure size 432x288 with 1 Axes>"
      ]
     },
     "metadata": {
      "needs_background": "light"
     },
     "output_type": "display_data"
    }
   ],
   "source": [
    "import matplotlib.pyplot as plt\n",
    "sns.boxplot(x='Department',y='ExtraSpace',data=data2)\n",
    "plt.xticks(rotation=90)\n",
    "plt.show()"
   ]
  },
  {
   "cell_type": "code",
   "execution_count": 33,
   "metadata": {},
   "outputs": [
    {
     "data": {
      "text/html": [
       "<div>\n",
       "<style scoped>\n",
       "    .dataframe tbody tr th:only-of-type {\n",
       "        vertical-align: middle;\n",
       "    }\n",
       "\n",
       "    .dataframe tbody tr th {\n",
       "        vertical-align: top;\n",
       "    }\n",
       "\n",
       "    .dataframe thead th {\n",
       "        text-align: right;\n",
       "    }\n",
       "</style>\n",
       "<table border=\"1\" class=\"dataframe\">\n",
       "  <thead>\n",
       "    <tr style=\"text-align: right;\">\n",
       "      <th></th>\n",
       "      <th>Term</th>\n",
       "      <th>Course</th>\n",
       "      <th>Section</th>\n",
       "      <th>Title</th>\n",
       "      <th>First Room</th>\n",
       "      <th>Department</th>\n",
       "      <th>Reg Count</th>\n",
       "      <th>Seats</th>\n",
       "      <th>Room</th>\n",
       "      <th>Size</th>\n",
       "      <th>ExtraSpace</th>\n",
       "    </tr>\n",
       "  </thead>\n",
       "  <tbody>\n",
       "    <tr>\n",
       "      <th>997</th>\n",
       "      <td>20161</td>\n",
       "      <td>GSBA-580C</td>\n",
       "      <td>15998</td>\n",
       "      <td>The Global Context of Business</td>\n",
       "      <td>JKP212</td>\n",
       "      <td>FT MBA Program</td>\n",
       "      <td>30</td>\n",
       "      <td>30</td>\n",
       "      <td>JKP212</td>\n",
       "      <td>78</td>\n",
       "      <td>48</td>\n",
       "    </tr>\n",
       "    <tr>\n",
       "      <th>1029</th>\n",
       "      <td>20171</td>\n",
       "      <td>GSBA-580C</td>\n",
       "      <td>15999</td>\n",
       "      <td>The Global Context of Business</td>\n",
       "      <td>JKP212</td>\n",
       "      <td>FT MBA Program</td>\n",
       "      <td>33</td>\n",
       "      <td>34</td>\n",
       "      <td>JKP212</td>\n",
       "      <td>78</td>\n",
       "      <td>44</td>\n",
       "    </tr>\n",
       "    <tr>\n",
       "      <th>998</th>\n",
       "      <td>20161</td>\n",
       "      <td>GSBA-580C</td>\n",
       "      <td>15999</td>\n",
       "      <td>The Global Context of Business</td>\n",
       "      <td>JKP212</td>\n",
       "      <td>FT MBA Program</td>\n",
       "      <td>35</td>\n",
       "      <td>35</td>\n",
       "      <td>JKP212</td>\n",
       "      <td>78</td>\n",
       "      <td>43</td>\n",
       "    </tr>\n",
       "    <tr>\n",
       "      <th>999</th>\n",
       "      <td>20161</td>\n",
       "      <td>GSBA-580C</td>\n",
       "      <td>16002</td>\n",
       "      <td>The Global Context of Business</td>\n",
       "      <td>JKP212</td>\n",
       "      <td>FT MBA Program</td>\n",
       "      <td>35</td>\n",
       "      <td>35</td>\n",
       "      <td>JKP212</td>\n",
       "      <td>78</td>\n",
       "      <td>43</td>\n",
       "    </tr>\n",
       "    <tr>\n",
       "      <th>1032</th>\n",
       "      <td>20171</td>\n",
       "      <td>GSBA-580C</td>\n",
       "      <td>16003</td>\n",
       "      <td>The Global Context of Business</td>\n",
       "      <td>JKP212</td>\n",
       "      <td>FT MBA Program</td>\n",
       "      <td>36</td>\n",
       "      <td>36</td>\n",
       "      <td>JKP212</td>\n",
       "      <td>78</td>\n",
       "      <td>42</td>\n",
       "    </tr>\n",
       "  </tbody>\n",
       "</table>\n",
       "</div>"
      ],
      "text/plain": [
       "       Term     Course  Section                           Title First Room  \\\n",
       "997   20161  GSBA-580C    15998  The Global Context of Business     JKP212   \n",
       "1029  20171  GSBA-580C    15999  The Global Context of Business     JKP212   \n",
       "998   20161  GSBA-580C    15999  The Global Context of Business     JKP212   \n",
       "999   20161  GSBA-580C    16002  The Global Context of Business     JKP212   \n",
       "1032  20171  GSBA-580C    16003  The Global Context of Business     JKP212   \n",
       "\n",
       "          Department  Reg Count  Seats    Room  Size  ExtraSpace  \n",
       "997   FT MBA Program         30     30  JKP212    78          48  \n",
       "1029  FT MBA Program         33     34  JKP212    78          44  \n",
       "998   FT MBA Program         35     35  JKP212    78          43  \n",
       "999   FT MBA Program         35     35  JKP212    78          43  \n",
       "1032  FT MBA Program         36     36  JKP212    78          42  "
      ]
     },
     "execution_count": 33,
     "metadata": {},
     "output_type": "execute_result"
    }
   ],
   "source": [
    "data2.query('Department==\"FT MBA Program\"')\\\n",
    "    .sort_values(by='ExtraSpace',ascending=False).head()"
   ]
  },
  {
   "cell_type": "markdown",
   "metadata": {},
   "source": [
    "## Case 10: Analyzing Popularity of Courses\n",
    "\n",
    "Execute the below two code cells to load in the student course selection data and compute the number of students in each term who chose each course and section as their first choice."
   ]
  },
  {
   "cell_type": "code",
   "execution_count": 34,
   "metadata": {},
   "outputs": [
    {
     "data": {
      "text/html": [
       "<div>\n",
       "<style scoped>\n",
       "    .dataframe tbody tr th:only-of-type {\n",
       "        vertical-align: middle;\n",
       "    }\n",
       "\n",
       "    .dataframe tbody tr th {\n",
       "        vertical-align: top;\n",
       "    }\n",
       "\n",
       "    .dataframe thead th {\n",
       "        text-align: right;\n",
       "    }\n",
       "</style>\n",
       "<table border=\"1\" class=\"dataframe\">\n",
       "  <thead>\n",
       "    <tr style=\"text-align: right;\">\n",
       "      <th></th>\n",
       "      <th>ID</th>\n",
       "      <th>Major</th>\n",
       "      <th>Class</th>\n",
       "      <th>Owner</th>\n",
       "      <th>Objective</th>\n",
       "      <th>Term</th>\n",
       "      <th>Course</th>\n",
       "      <th>Title</th>\n",
       "      <th>Section</th>\n",
       "      <th>Instructor</th>\n",
       "      <th># Students</th>\n",
       "      <th>Units</th>\n",
       "      <th>Enroll</th>\n",
       "      <th>Withdraw</th>\n",
       "    </tr>\n",
       "  </thead>\n",
       "  <tbody>\n",
       "    <tr>\n",
       "      <th>0</th>\n",
       "      <td>1001</td>\n",
       "      <td>USC</td>\n",
       "      <td>O</td>\n",
       "      <td>USC</td>\n",
       "      <td>NONE</td>\n",
       "      <td>20163</td>\n",
       "      <td>ACCT-551T</td>\n",
       "      <td>Taxation of Partnerships and S-Corps</td>\n",
       "      <td>14222</td>\n",
       "      <td>Mills, Patricia</td>\n",
       "      <td>8</td>\n",
       "      <td>3.0</td>\n",
       "      <td>L</td>\n",
       "      <td>NaN</td>\n",
       "    </tr>\n",
       "    <tr>\n",
       "      <th>1</th>\n",
       "      <td>1001</td>\n",
       "      <td>USC</td>\n",
       "      <td>O</td>\n",
       "      <td>USC</td>\n",
       "      <td>NONE</td>\n",
       "      <td>20163</td>\n",
       "      <td>ACCT-561T</td>\n",
       "      <td>Income Tax of Corporations and Their Shareholders</td>\n",
       "      <td>14236</td>\n",
       "      <td>Keller, Joe</td>\n",
       "      <td>5</td>\n",
       "      <td>3.0</td>\n",
       "      <td>L</td>\n",
       "      <td>NaN</td>\n",
       "    </tr>\n",
       "    <tr>\n",
       "      <th>2</th>\n",
       "      <td>1001</td>\n",
       "      <td>USC</td>\n",
       "      <td>O</td>\n",
       "      <td>USC</td>\n",
       "      <td>NONE</td>\n",
       "      <td>20163</td>\n",
       "      <td>ACCT-568T</td>\n",
       "      <td>International Taxation</td>\n",
       "      <td>14248</td>\n",
       "      <td>Werner, Maryanne, Sabido</td>\n",
       "      <td>5</td>\n",
       "      <td>3.0</td>\n",
       "      <td>L</td>\n",
       "      <td>NaN</td>\n",
       "    </tr>\n",
       "    <tr>\n",
       "      <th>3</th>\n",
       "      <td>1002</td>\n",
       "      <td>ECON,IR</td>\n",
       "      <td>U4</td>\n",
       "      <td>LASS,LASS</td>\n",
       "      <td>BA,BA</td>\n",
       "      <td>20163</td>\n",
       "      <td>ACCT-410</td>\n",
       "      <td>Foundations of Accounting</td>\n",
       "      <td>14092</td>\n",
       "      <td>Karayan, John, E</td>\n",
       "      <td>12</td>\n",
       "      <td>4.0</td>\n",
       "      <td>L</td>\n",
       "      <td>NaN</td>\n",
       "    </tr>\n",
       "    <tr>\n",
       "      <th>4</th>\n",
       "      <td>1002</td>\n",
       "      <td>ECON,IR</td>\n",
       "      <td>U4</td>\n",
       "      <td>LASS,LASS</td>\n",
       "      <td>BA,BA</td>\n",
       "      <td>20163</td>\n",
       "      <td>DSO-401</td>\n",
       "      <td>Business Information Systems -- Spreadsheet Ap...</td>\n",
       "      <td>16214</td>\n",
       "      <td>Pereira, Francis</td>\n",
       "      <td>8</td>\n",
       "      <td>2.0</td>\n",
       "      <td>PN</td>\n",
       "      <td>NaN</td>\n",
       "    </tr>\n",
       "  </tbody>\n",
       "</table>\n",
       "</div>"
      ],
      "text/plain": [
       "     ID    Major Class      Owner Objective   Term     Course  \\\n",
       "0  1001      USC     O        USC      NONE  20163  ACCT-551T   \n",
       "1  1001      USC     O        USC      NONE  20163  ACCT-561T   \n",
       "2  1001      USC     O        USC      NONE  20163  ACCT-568T   \n",
       "3  1002  ECON,IR    U4  LASS,LASS     BA,BA  20163   ACCT-410   \n",
       "4  1002  ECON,IR    U4  LASS,LASS     BA,BA  20163    DSO-401   \n",
       "\n",
       "                                               Title  Section  \\\n",
       "0               Taxation of Partnerships and S-Corps    14222   \n",
       "1  Income Tax of Corporations and Their Shareholders    14236   \n",
       "2                             International Taxation    14248   \n",
       "3                          Foundations of Accounting    14092   \n",
       "4  Business Information Systems -- Spreadsheet Ap...    16214   \n",
       "\n",
       "                 Instructor  # Students  Units Enroll Withdraw  \n",
       "0           Mills, Patricia           8    3.0      L      NaN  \n",
       "1               Keller, Joe           5    3.0      L      NaN  \n",
       "2  Werner, Maryanne, Sabido           5    3.0      L      NaN  \n",
       "3         Karayan, John, E           12    4.0      L      NaN  \n",
       "4          Pereira, Francis           8    2.0     PN      NaN  "
      ]
     },
     "execution_count": 34,
     "metadata": {},
     "output_type": "execute_result"
    }
   ],
   "source": [
    "students=pd.read_excel('Student_Course_Selection_1516.xlsx')\n",
    "students.rename(columns={'Randomized Unique Identifier':'ID'},inplace=True)\n",
    "students.head()"
   ]
  },
  {
   "cell_type": "code",
   "execution_count": 35,
   "metadata": {},
   "outputs": [
    {
     "data": {
      "text/html": [
       "<div>\n",
       "<style scoped>\n",
       "    .dataframe tbody tr th:only-of-type {\n",
       "        vertical-align: middle;\n",
       "    }\n",
       "\n",
       "    .dataframe tbody tr th {\n",
       "        vertical-align: top;\n",
       "    }\n",
       "\n",
       "    .dataframe thead th {\n",
       "        text-align: right;\n",
       "    }\n",
       "</style>\n",
       "<table border=\"1\" class=\"dataframe\">\n",
       "  <thead>\n",
       "    <tr style=\"text-align: right;\">\n",
       "      <th></th>\n",
       "      <th>Term</th>\n",
       "      <th>Course</th>\n",
       "      <th>Section</th>\n",
       "      <th>FirstChoice</th>\n",
       "    </tr>\n",
       "  </thead>\n",
       "  <tbody>\n",
       "    <tr>\n",
       "      <th>0</th>\n",
       "      <td>20153</td>\n",
       "      <td>ACCT-370</td>\n",
       "      <td>14025</td>\n",
       "      <td>24</td>\n",
       "    </tr>\n",
       "    <tr>\n",
       "      <th>1</th>\n",
       "      <td>20153</td>\n",
       "      <td>ACCT-370</td>\n",
       "      <td>14026</td>\n",
       "      <td>40</td>\n",
       "    </tr>\n",
       "    <tr>\n",
       "      <th>2</th>\n",
       "      <td>20153</td>\n",
       "      <td>ACCT-370</td>\n",
       "      <td>14027</td>\n",
       "      <td>42</td>\n",
       "    </tr>\n",
       "    <tr>\n",
       "      <th>3</th>\n",
       "      <td>20153</td>\n",
       "      <td>ACCT-371</td>\n",
       "      <td>14040</td>\n",
       "      <td>7</td>\n",
       "    </tr>\n",
       "    <tr>\n",
       "      <th>4</th>\n",
       "      <td>20153</td>\n",
       "      <td>ACCT-371</td>\n",
       "      <td>14041</td>\n",
       "      <td>1</td>\n",
       "    </tr>\n",
       "  </tbody>\n",
       "</table>\n",
       "</div>"
      ],
      "text/plain": [
       "    Term    Course  Section  FirstChoice\n",
       "0  20153  ACCT-370    14025           24\n",
       "1  20153  ACCT-370    14026           40\n",
       "2  20153  ACCT-370    14027           42\n",
       "3  20153  ACCT-371    14040            7\n",
       "4  20153  ACCT-371    14041            1"
      ]
     },
     "execution_count": 35,
     "metadata": {},
     "output_type": "execute_result"
    }
   ],
   "source": [
    "students['Rank']=students.groupby(['ID','Term']).cumcount()\n",
    "topchoice=students.query('Rank==0')\\\n",
    "    .groupby(['Term','Course','Section'])['ID'].count().reset_index()\n",
    "topchoice.rename(columns={'ID':'FirstChoice'},inplace=True)\n",
    "topchoice.head()"
   ]
  },
  {
   "cell_type": "markdown",
   "metadata": {},
   "source": [
    "**Merge the \"topchoice\" DataFrame above with the \"data\" DataFrame from Case 9, and call the result \"data3\". You should merge on Term, Course, and Section.**"
   ]
  },
  {
   "cell_type": "code",
   "execution_count": 36,
   "metadata": {},
   "outputs": [
    {
     "data": {
      "text/html": [
       "<div>\n",
       "<style scoped>\n",
       "    .dataframe tbody tr th:only-of-type {\n",
       "        vertical-align: middle;\n",
       "    }\n",
       "\n",
       "    .dataframe tbody tr th {\n",
       "        vertical-align: top;\n",
       "    }\n",
       "\n",
       "    .dataframe thead th {\n",
       "        text-align: right;\n",
       "    }\n",
       "</style>\n",
       "<table border=\"1\" class=\"dataframe\">\n",
       "  <thead>\n",
       "    <tr style=\"text-align: right;\">\n",
       "      <th></th>\n",
       "      <th>Term</th>\n",
       "      <th>Course</th>\n",
       "      <th>Section</th>\n",
       "      <th>Title</th>\n",
       "      <th>First Room</th>\n",
       "      <th>Department</th>\n",
       "      <th>Reg Count</th>\n",
       "      <th>Seats</th>\n",
       "      <th>FirstChoice</th>\n",
       "    </tr>\n",
       "  </thead>\n",
       "  <tbody>\n",
       "    <tr>\n",
       "      <th>0</th>\n",
       "      <td>20153</td>\n",
       "      <td>ACCT-370</td>\n",
       "      <td>14025</td>\n",
       "      <td>External Financial Reporting Issues</td>\n",
       "      <td>ACC303</td>\n",
       "      <td>ACCT</td>\n",
       "      <td>24</td>\n",
       "      <td>42</td>\n",
       "      <td>24</td>\n",
       "    </tr>\n",
       "    <tr>\n",
       "      <th>1</th>\n",
       "      <td>20153</td>\n",
       "      <td>ACCT-370</td>\n",
       "      <td>14026</td>\n",
       "      <td>External Financial Reporting Issues</td>\n",
       "      <td>ACC303</td>\n",
       "      <td>ACCT</td>\n",
       "      <td>40</td>\n",
       "      <td>42</td>\n",
       "      <td>40</td>\n",
       "    </tr>\n",
       "    <tr>\n",
       "      <th>2</th>\n",
       "      <td>20153</td>\n",
       "      <td>ACCT-370</td>\n",
       "      <td>14027</td>\n",
       "      <td>External Financial Reporting Issues</td>\n",
       "      <td>ACC303</td>\n",
       "      <td>ACCT</td>\n",
       "      <td>42</td>\n",
       "      <td>42</td>\n",
       "      <td>42</td>\n",
       "    </tr>\n",
       "    <tr>\n",
       "      <th>3</th>\n",
       "      <td>20153</td>\n",
       "      <td>ACCT-371</td>\n",
       "      <td>14040</td>\n",
       "      <td>Introduction to Accounting Systems</td>\n",
       "      <td>ACC303</td>\n",
       "      <td>ACCT</td>\n",
       "      <td>29</td>\n",
       "      <td>42</td>\n",
       "      <td>7</td>\n",
       "    </tr>\n",
       "    <tr>\n",
       "      <th>4</th>\n",
       "      <td>20153</td>\n",
       "      <td>ACCT-371</td>\n",
       "      <td>14042</td>\n",
       "      <td>Introduction to Accounting Systems</td>\n",
       "      <td>ACC303</td>\n",
       "      <td>ACCT</td>\n",
       "      <td>40</td>\n",
       "      <td>42</td>\n",
       "      <td>7</td>\n",
       "    </tr>\n",
       "  </tbody>\n",
       "</table>\n",
       "</div>"
      ],
      "text/plain": [
       "    Term    Course  Section                                Title First Room  \\\n",
       "0  20153  ACCT-370    14025  External Financial Reporting Issues     ACC303   \n",
       "1  20153  ACCT-370    14026  External Financial Reporting Issues     ACC303   \n",
       "2  20153  ACCT-370    14027  External Financial Reporting Issues     ACC303   \n",
       "3  20153  ACCT-371    14040   Introduction to Accounting Systems     ACC303   \n",
       "4  20153  ACCT-371    14042   Introduction to Accounting Systems     ACC303   \n",
       "\n",
       "  Department  Reg Count  Seats  FirstChoice  \n",
       "0       ACCT         24     42           24  \n",
       "1       ACCT         40     42           40  \n",
       "2       ACCT         42     42           42  \n",
       "3       ACCT         29     42            7  \n",
       "4       ACCT         40     42            7  "
      ]
     },
     "execution_count": 36,
     "metadata": {},
     "output_type": "execute_result"
    }
   ],
   "source": [
    "data3=data.merge(topchoice,on=['Term','Course','Section'])\n",
    "data3.head()"
   ]
  },
  {
   "cell_type": "markdown",
   "metadata": {},
   "source": [
    "After you are done, you can run the following code to create a column \"VeryDesirable\" to identify course sections for which 80 percent of the registered students chose it as their first choice, and at least 20 students chose it as first choice. The second line produces a graph that compares department in the number of very desirable course sections. "
   ]
  },
  {
   "cell_type": "code",
   "execution_count": 37,
   "metadata": {},
   "outputs": [
    {
     "data": {
      "text/plain": [
       "<matplotlib.axes._subplots.AxesSubplot at 0x7fbd33663240>"
      ]
     },
     "execution_count": 37,
     "metadata": {},
     "output_type": "execute_result"
    },
    {
     "data": {
      "image/png": "[encoded data removed]",
      "text/plain": [
       "<Figure size 432x288 with 1 Axes>"
      ]
     },
     "metadata": {
      "needs_background": "light"
     },
     "output_type": "display_data"
    }
   ],
   "source": [
    "data3['VeryDesirable']=(data3['FirstChoice']>=data3['Reg Count']*0.8) \\\n",
    "    & (data3['FirstChoice']>20)\n",
    "data3.groupby('Department')['VeryDesirable'].sum()\\\n",
    "    .sort_values(ascending=False)\\\n",
    "    .plot(kind='bar',title='Count of very desirable course sections')"
   ]
  }
 ],
 "metadata": {
  "kernelspec": {
   "display_name": "Python 3",
   "language": "python",
   "name": "python3"
  },
  "language_info": {
   "codemirror_mode": {
    "name": "ipython",
    "version": 3
   },
   "file_extension": ".py",
   "mimetype": "text/x-python",
   "name": "python",
   "nbconvert_exporter": "python",
   "pygments_lexer": "ipython3",
   "version": "3.7.2"
  }
 },
 "nbformat": 4,
 "nbformat_minor": 2
}
