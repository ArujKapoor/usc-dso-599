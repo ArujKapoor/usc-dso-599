{
 "cells": [
  {
   "cell_type": "markdown",
   "metadata": {},
   "source": [
    "# DSO-599 Practice Exam II (with Solutions)\n",
    "\n",
    "# Part I. Multiple Choice (1 point each)"
   ]
  },
  {
   "cell_type": "markdown",
   "metadata": {},
   "source": [
    "## 1. Predict the result of the following expression\n",
    "\n",
    "```python\n",
    "((3**2-5)>1)*2+len('45')\n",
    "```\n",
    "\n",
    "**A)** 2\n",
    "\n",
    "**B)** 4\n",
    "\n",
    "**C)** 47\n",
    "\n",
    "**D)** 245\n",
    "\n",
    "**E)** None of the above"
   ]
  },
  {
   "cell_type": "code",
   "execution_count": 1,
   "metadata": {},
   "outputs": [
    {
     "data": {
      "text/plain": [
       "4"
      ]
     },
     "execution_count": 1,
     "metadata": {},
     "output_type": "execute_result"
    }
   ],
   "source": [
    "((3**2-5)>1)*2+len('45')"
   ]
  },
  {
   "cell_type": "markdown",
   "metadata": {},
   "source": [
    "## 2. Predict the result of the following expression\n",
    "\n",
    "``` python\n",
    "{'5':3,'2':1}[str(2)]+[6,3][0]\n",
    "```\n",
    "\n",
    "**A)** 9\n",
    "\n",
    "**B)** 8\n",
    "\n",
    "**C)** 7\n",
    "\n",
    "**D)** 4\n",
    "\n",
    "**E)** 2"
   ]
  },
  {
   "cell_type": "code",
   "execution_count": 2,
   "metadata": {},
   "outputs": [
    {
     "data": {
      "text/plain": [
       "7"
      ]
     },
     "execution_count": 2,
     "metadata": {},
     "output_type": "execute_result"
    }
   ],
   "source": [
    "{'5':3,'2':1}[str(2)]+[6,3][0]"
   ]
  },
  {
   "cell_type": "markdown",
   "metadata": {},
   "source": [
    "## 3. Predict the output of the following code\n",
    "```python\n",
    "def f(x):\n",
    "    if type(x)==str:\n",
    "        return 1\n",
    "    else:\n",
    "        return x+3\n",
    "print(f(f('5'))-f(5))\n",
    "```\n",
    "\n",
    "**A)** -4\n",
    "\n",
    "**B)** -1\n",
    "\n",
    "**C)** 0\n",
    "\n",
    "**D)** 1\n",
    "\n",
    "**E)** 3"
   ]
  },
  {
   "cell_type": "code",
   "execution_count": 3,
   "metadata": {},
   "outputs": [
    {
     "name": "stdout",
     "output_type": "stream",
     "text": [
      "-4\n"
     ]
    }
   ],
   "source": [
    "def f(x):\n",
    "    if type(x)==str:\n",
    "        return 1\n",
    "    else:\n",
    "        return x+3\n",
    "print(f(f('5'))-f(5))"
   ]
  },
  {
   "cell_type": "markdown",
   "metadata": {},
   "source": [
    "## 4. Predict the output of the following code\n",
    "```python\n",
    "a=4\n",
    "s=0\n",
    "while a>1:\n",
    "    s+=a\n",
    "    a-=2\n",
    "print(s)\n",
    "```\n",
    "\n",
    "**A)** 0 \n",
    "\n",
    "**B)** 2 \n",
    "\n",
    "**C)** 4\n",
    "\n",
    "**D)** 6\n",
    "\n",
    "**E)** 9"
   ]
  },
  {
   "cell_type": "code",
   "execution_count": 4,
   "metadata": {},
   "outputs": [
    {
     "name": "stdout",
     "output_type": "stream",
     "text": [
      "6\n"
     ]
    }
   ],
   "source": [
    "a=4\n",
    "s=0\n",
    "while a>1:\n",
    "    s+=a\n",
    "    a-=2\n",
    "print(s)"
   ]
  },
  {
   "cell_type": "markdown",
   "metadata": {},
   "source": [
    "## 5. Predict the output of the following code\n",
    "\n",
    "```python\n",
    "dic={'3':0,'4':2,'5':1}\n",
    "lis=[3,4,5]\n",
    "x=lis [ dic [ str( lis[1] ) ] ]\n",
    "print(x)\n",
    "```\n",
    "\n",
    "**A)** 1\n",
    "\n",
    "**B)** 2\n",
    "\n",
    "**C)** 3\n",
    "\n",
    "**D)** 4\n",
    "\n",
    "**E)** 5\n"
   ]
  },
  {
   "cell_type": "code",
   "execution_count": 5,
   "metadata": {},
   "outputs": [
    {
     "name": "stdout",
     "output_type": "stream",
     "text": [
      "5\n"
     ]
    }
   ],
   "source": [
    "dic={'3':0,'4':2,'5':1}\n",
    "lis=[3,4,5]\n",
    "x=lis [ dic [ str( lis[1] ) ] ]\n",
    "print(x)"
   ]
  },
  {
   "cell_type": "markdown",
   "metadata": {},
   "source": [
    "## 6. Predict the result of the last line of the following code\n",
    "```python\n",
    "import pandas as pd\n",
    "s=pd.Series([0,2,4,6,8])\n",
    "s[s<=4].mean()+(s<=4).sum()\n",
    "```\n",
    "\n",
    "**A)** 3.6\n",
    "\n",
    "**B)** 4.0\n",
    "\n",
    "**C)** 4.2\n",
    "\n",
    "**D)** 5.0\n",
    "\n",
    "**E)** 8.0\n"
   ]
  },
  {
   "cell_type": "code",
   "execution_count": 6,
   "metadata": {},
   "outputs": [
    {
     "data": {
      "text/plain": [
       "5.0"
      ]
     },
     "execution_count": 6,
     "metadata": {},
     "output_type": "execute_result"
    }
   ],
   "source": [
    "import pandas as pd\n",
    "s=pd.Series([0,2,4,6,8])\n",
    "s[s<=4].mean()+(s<=4).sum()"
   ]
  },
  {
   "cell_type": "markdown",
   "metadata": {},
   "source": [
    "## 7. Predict the result of the last line of the following code\n",
    "\n",
    "```python\n",
    "import pandas as pd\n",
    "s=pd.Series(['apple','orange','watermelon'])\n",
    "len(s.str[4:][2])\n",
    "```\n",
    "\n",
    "**A)** 0\n",
    "\n",
    "**B)** 1\n",
    "\n",
    "**C)** 2\n",
    "\n",
    "**D)** 4\n",
    "\n",
    "**E)** 6"
   ]
  },
  {
   "cell_type": "code",
   "execution_count": 7,
   "metadata": {},
   "outputs": [
    {
     "data": {
      "text/plain": [
       "6"
      ]
     },
     "execution_count": 7,
     "metadata": {},
     "output_type": "execute_result"
    }
   ],
   "source": [
    "import pandas as pd\n",
    "s=pd.Series(['apple','orange','watermelon'])\n",
    "len(s.str[4:][2])"
   ]
  },
  {
   "cell_type": "markdown",
   "metadata": {},
   "source": [
    "## 8. Predict the output of the following code\n",
    "\n",
    "```python\n",
    "import pandas as pd\n",
    "s=pd.to_numeric(pd.Series(['apple',1,'orange',3]),errors='coerce')\n",
    "s.isnull().sum()\n",
    "```\n",
    "\n",
    "**A)** NaN\n",
    "\n",
    "**B)** 1\n",
    "\n",
    "**C)** 2\n",
    "\n",
    "**D)** 3\n",
    "\n",
    "**E)** 4"
   ]
  },
  {
   "cell_type": "code",
   "execution_count": 8,
   "metadata": {},
   "outputs": [
    {
     "data": {
      "text/plain": [
       "2"
      ]
     },
     "execution_count": 8,
     "metadata": {},
     "output_type": "execute_result"
    }
   ],
   "source": [
    "import pandas as pd\n",
    "s=pd.to_numeric(pd.Series(['apple',1,'orange',3]),errors='coerce')\n",
    "s.isnull().sum()"
   ]
  },
  {
   "cell_type": "markdown",
   "metadata": {},
   "source": [
    "## 9. Which of the following lines will NOT cause an error?\n",
    "\n",
    "**A)** `[3,5](0)+1`\n",
    "\n",
    "**B)** `{0:[0,0],1:[1,1]}[0][0]`\n",
    "\n",
    "**C)** `str('3'+int(3.2))`\n",
    "\n",
    "**D)** `[2,3].iloc[0]`\n",
    "\n",
    "**E)** `int(' 352 ').strip()`"
   ]
  },
  {
   "cell_type": "code",
   "execution_count": 9,
   "metadata": {},
   "outputs": [
    {
     "data": {
      "text/plain": [
       "0"
      ]
     },
     "execution_count": 9,
     "metadata": {},
     "output_type": "execute_result"
    }
   ],
   "source": [
    "{0:[0,0],1:[1,1]}[0][0]"
   ]
  },
  {
   "cell_type": "markdown",
   "metadata": {},
   "source": [
    "## 10. Which of the following lines will NOT cause an error?\n",
    "\n",
    "Assume the following code is executed first:\n",
    "\n",
    "```python\n",
    "import pandas as pd\n",
    "s1=pd.Series([0,1,2,3])\n",
    "s2=pd.Series([4,3,2,1])\n",
    "```\n",
    "\n",
    "**A)** `s1.iloc[1,1]`\n",
    "\n",
    "**B)** `pd.DataFrame([s1,s2])['s1']`\n",
    "\n",
    "**C)** `pd.DataFrame([s1,s2]).loc['s1',0]`\n",
    "\n",
    "**D)** `s1[s1[0]+s2[0]]`\n",
    "\n",
    "**E)** `(s1+(s2>2)).sum()`"
   ]
  },
  {
   "cell_type": "code",
   "execution_count": 10,
   "metadata": {},
   "outputs": [
    {
     "data": {
      "text/plain": [
       "8"
      ]
     },
     "execution_count": 10,
     "metadata": {},
     "output_type": "execute_result"
    }
   ],
   "source": [
    "import pandas as pd\n",
    "s1=pd.Series([0,1,2,3])\n",
    "s2=pd.Series([4,3,2,1])\n",
    "(s1+(s2>2)).sum()"
   ]
  },
  {
   "cell_type": "markdown",
   "metadata": {},
   "source": [
    "# Part II. Writing Code\n",
    "\n",
    "## 11. Manipulating Data (3 points)\n",
    "\n",
    "Given a Dataframe called \"grades\" as follows (the first column is called \"name\" and stores the name of the student, and all subsequent columns correspond to an assignment):\n",
    "\n",
    "|` `|  name | hwk1 | hwk2 | hwk3 |\n",
    "|--|--|--|--|--|\n",
    "|0 | Alice | 1.0 | 0.9 | 0.8 |\n",
    "|1 | Bob | 0.8 | 1.0 | 0.9 |\n",
    "|2 | Charlie | 1.0 | 0.0 | 1.0 |\n",
    "\n",
    "**Create a DataFrame called \"grades2\" that aggregates all the assignment data into two columns as below:** (Note: your code must work given whatever data in \"grades\", even if there are more than 3 homeworks; in other words, you will not obtain points if you hard-code the answer.)\n",
    "\n",
    "|` `|  name | assignment | points |\n",
    "|--|--|--|--|\n",
    "|0 | Alice | hwk1 | 1.0 |\n",
    "|1 | Bob | hwk1 | 0.8 |\n",
    "|2 | Charlie | hwk1 | 1.0 |\n",
    "|3 | Alice | hwk2 | 0.9 |\n",
    "|4 | Bob | hwk2 | 1.0 |\n",
    "|5 | Charlie | hwk2 | 0.0 |\n",
    "|6 | Alice | hwk3 | 0.8 |\n",
    "|7 | Bob | hwk3 | 0.9 |\n",
    "|8 | Charlie | hwk3 | 1.0 |\n",
    "\n",
    "\n",
    "**Complete the following code to make the DataFrame called \"grades2\":**\n",
    "\n",
    "```python\n",
    "import pandas as pd\n",
    "grades=pd.DataFrame([['Alice',1,0.9,0.8],['Bob',0.8,1,0.9],['Charlie',1,0,1]],\\\n",
    "                   columns=['name','hwk1','hwk2','hwk3'])\n",
    "```"
   ]
  },
  {
   "cell_type": "code",
   "execution_count": 11,
   "metadata": {},
   "outputs": [],
   "source": [
    "import pandas as pd\n",
    "grades=pd.DataFrame([['Alice',1,0.9,0.8],['Bob',0.8,1,0.9],['Charlie',1,0,1]],\\\n",
    "                   columns=['name','hwk1','hwk2','hwk3'])\n",
    "grades2=grades.melt(id_vars='name',var_name='assignment',value_name='points')"
   ]
  },
  {
   "cell_type": "markdown",
   "metadata": {},
   "source": [
    "## 12. Analyzing Data in List Format (5 points)\n",
    "\n",
    "Write a function called \"analyze\" which takes two inputs:\n",
    "\n",
    "- lis: a list of numbers.\n",
    "- threshold (default value=0): a numerical threshold\n",
    "\n",
    "The function should return the sum of the numbers in the list that are greater than or equal to the given threshold. You may assume that all items in \"lis\" are numbers and that the threshold is a valid number.\n",
    "\n",
    "**Example 1:**\n",
    "```python\n",
    "analyze([3,5,4],5)\n",
    "```\n",
    "\n",
    "yields the result:\n",
    "\n",
    "`5`\n",
    "\n",
    "**Example 2:**\n",
    "```python\n",
    "analyze([3,5,4],6)\n",
    "```\n",
    "\n",
    "`0`\n",
    "\n",
    "**Example 3:**\n",
    "```python\n",
    "analyze([1,2,3,4])\n",
    "```\n",
    "\n",
    "`10`\n",
    "\n",
    "\n"
   ]
  },
  {
   "cell_type": "code",
   "execution_count": 12,
   "metadata": {},
   "outputs": [],
   "source": [
    "def analyze(lis,threshold=0):\n",
    "    s=0\n",
    "    for value in lis:\n",
    "        if value>=threshold:\n",
    "            s+=value\n",
    "    return s"
   ]
  },
  {
   "cell_type": "code",
   "execution_count": 13,
   "metadata": {},
   "outputs": [
    {
     "data": {
      "text/plain": [
       "5"
      ]
     },
     "execution_count": 13,
     "metadata": {},
     "output_type": "execute_result"
    }
   ],
   "source": [
    "analyze([3,5,4],5)"
   ]
  },
  {
   "cell_type": "code",
   "execution_count": 14,
   "metadata": {},
   "outputs": [
    {
     "data": {
      "text/plain": [
       "0"
      ]
     },
     "execution_count": 14,
     "metadata": {},
     "output_type": "execute_result"
    }
   ],
   "source": [
    "analyze([3,5,4],6)"
   ]
  },
  {
   "cell_type": "code",
   "execution_count": 15,
   "metadata": {},
   "outputs": [
    {
     "data": {
      "text/plain": [
       "10"
      ]
     },
     "execution_count": 15,
     "metadata": {},
     "output_type": "execute_result"
    }
   ],
   "source": [
    "analyze([1,2,3,4])"
   ]
  },
  {
   "cell_type": "code",
   "execution_count": 16,
   "metadata": {},
   "outputs": [],
   "source": [
    "# Alternative solution using Pandas\n",
    "import pandas as pd\n",
    "def analyze(lis,threshold=0):\n",
    "    ser=pd.Series(lis)\n",
    "    return ser[ser>=threshold].sum()"
   ]
  },
  {
   "cell_type": "markdown",
   "metadata": {},
   "source": [
    "## 13. Interactive Number Cruncher (7 points)\n",
    "\n",
    "Write a program which repeatedly reads numbers using the prompt \"Enter a number: \" until the\n",
    "user enters \"done\" (case sensitive). Once \"done\" is entered, print out the total, count,\n",
    "and average of the numbers. (You can assume that the user inputs at least one valid number before inputing done, so the count will never be zero.)\n",
    "\n",
    "If the user enters anything other than a\n",
    "number, detect their mistake using try and except, and print the error\n",
    "message \"Invalid input\" and skip to the next number. \n",
    "\n",
    "**Sample run 1:**\n",
    "```\n",
    "Enter a number: 4\n",
    "Enter a number: 5\n",
    "Enter a number: '4'\n",
    "Invalid input\n",
    "Enter a number: 6\n",
    "Enter a number: done\n",
    "15.0 3 5.0\n",
    "```\n",
    "\n",
    "**Sample run 2:**\n",
    "```\n",
    "Enter a number: -1\n",
    "Enter a number: five\n",
    "Invalid input\n",
    "Enter a number: 3.6\n",
    "Enter a number: DONE\n",
    "Invalid input\n",
    "Enter a number: done\n",
    "2.6 2 1.3\n",
    "```\n",
    "\n",
    "**Write your code below:**"
   ]
  },
  {
   "cell_type": "code",
   "execution_count": 17,
   "metadata": {},
   "outputs": [
    {
     "name": "stdout",
     "output_type": "stream",
     "text": [
      "Enter a number: 4\n",
      "Enter a number: 5\n",
      "Enter a number: '4'\n",
      "Invalid input\n",
      "Enter a number: 6\n",
      "Enter a number: done\n",
      "15.0 3 5.0\n"
     ]
    }
   ],
   "source": [
    "total=0\n",
    "count=0\n",
    "while True:\n",
    "    userInput=input('Enter a number: ')\n",
    "    if userInput=='done':\n",
    "        break\n",
    "    try:\n",
    "        number=float(userInput)\n",
    "    except:\n",
    "        print('Invalid input')\n",
    "        continue\n",
    "    total+=number\n",
    "    count+=1\n",
    "print(total,count,total/count)"
   ]
  }
 ],
 "metadata": {
  "kernelspec": {
   "display_name": "Python 3",
   "language": "python",
   "name": "python3"
  },
  "language_info": {
   "codemirror_mode": {
    "name": "ipython",
    "version": 3
   },
   "file_extension": ".py",
   "mimetype": "text/x-python",
   "name": "python",
   "nbconvert_exporter": "python",
   "pygments_lexer": "ipython3",
   "version": "3.7.2"
  }
 },
 "nbformat": 4,
 "nbformat_minor": 2
}
