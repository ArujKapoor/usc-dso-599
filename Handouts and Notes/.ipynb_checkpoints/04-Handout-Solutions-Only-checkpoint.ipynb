{
 "cells": [
  {
   "cell_type": "markdown",
   "metadata": {},
   "source": [
    "# Session 4 Handout (Solutions Only)"
   ]
  },
  {
   "cell_type": "markdown",
   "metadata": {},
   "source": [
    "**Q1:** Write a program to repeatedly ask the user to input the number of hours worked, and display the total pay, assuming that the rate for first 40 hours is 10/hour, and the rate for additional hours is 15/hour. The program should terminate whenever the user inputs `done`."
   ]
  },
  {
   "cell_type": "code",
   "execution_count": 2,
   "metadata": {},
   "outputs": [
    {
     "name": "stdout",
     "output_type": "stream",
     "text": [
      "Enter hours worked (or done): 38\n",
      "Pay is 380.0\n",
      "Enter hours worked (or done): 42\n",
      "Pay is 430.0\n",
      "Enter hours worked (or done): done\n"
     ]
    }
   ],
   "source": [
    "from session3 import calculateWage\n",
    "while True:\n",
    "    userInput=input('Enter hours worked (or done): ')    \n",
    "    if userInput=='done':\n",
    "        break\n",
    "    hours=float(userInput)\n",
    "    print('Pay is',calculateWage(hours))"
   ]
  },
  {
   "cell_type": "markdown",
   "metadata": {},
   "source": [
    "**(optional) Q2**: Rewrite the code in Q1 but do not use `break`."
   ]
  },
  {
   "cell_type": "code",
   "execution_count": null,
   "metadata": {},
   "outputs": [],
   "source": [
    "from session3 import calculateWage\n",
    "prompt='Enter hours worked (or done): '\n",
    "userInput=input(prompt)\n",
    "\n",
    "while userInput!='done':\n",
    "    hours=float(userInput)\n",
    "    print('Pay is',calculateWage(hours))\n",
    "    userInput=input(prompt)"
   ]
  },
  {
   "cell_type": "markdown",
   "metadata": {},
   "source": [
    "The following function uses `try` and `except` (see PY4E Chapter 3) for checking whether a certain value is convertable to a `float`."
   ]
  },
  {
   "cell_type": "code",
   "execution_count": 3,
   "metadata": {},
   "outputs": [
    {
     "name": "stdout",
     "output_type": "stream",
     "text": [
      "True\n",
      "True\n",
      "False\n"
     ]
    }
   ],
   "source": [
    "def isNumber(x):\n",
    "    try:\n",
    "        float(x)\n",
    "        return True\n",
    "    except:\n",
    "        return False\n",
    "\n",
    "print(isNumber(3))\n",
    "print(isNumber('3'))\n",
    "print(isNumber('three'))"
   ]
  },
  {
   "cell_type": "markdown",
   "metadata": {},
   "source": [
    "**Q3:** Modify the first example of this handout so that if the user does not input `done` nor an integer, then the program prints `Invalid input.` and asks for another input. (Hint: first write an `isInteger(x)` function by modifying the above, then use an `if` statement to decide whether to convert the input to an integer, or display `Invalid input.`)"
   ]
  },
  {
   "cell_type": "code",
   "execution_count": 4,
   "metadata": {},
   "outputs": [
    {
     "name": "stdout",
     "output_type": "stream",
     "text": [
      "Enter inventory (or done): 2.5\n",
      "Invalid input.\n",
      "Enter inventory (or done): 30\n",
      "Order 70 units.\n",
      "Enter inventory (or done): thirty\n",
      "Invalid input.\n",
      "Enter inventory (or done): done\n"
     ]
    }
   ],
   "source": [
    "from session3 import orderQuantity\n",
    "def isInteger(x):\n",
    "    try:\n",
    "        if int(x)==float(x):\n",
    "            return True\n",
    "        else:\n",
    "            return False\n",
    "    except:\n",
    "        return False\n",
    "\n",
    "while True:\n",
    "    userInput=input('Enter inventory (or done): ')    \n",
    "    if userInput=='done':\n",
    "        break\n",
    "    if isInteger(userInput):\n",
    "        inventory=int(userInput)\n",
    "        print ('Order',orderQuantity(inventory),'units.')\n",
    "    else:\n",
    "        print('Invalid input.')  "
   ]
  },
  {
   "cell_type": "markdown",
   "metadata": {},
   "source": [
    "**Q4:** Modify the first example of the handout to use a `for` loop instead of a `while` loop, and limit the number of iterations to at most 5.\n",
    "\n"
   ]
  },
  {
   "cell_type": "code",
   "execution_count": 3,
   "metadata": {},
   "outputs": [
    {
     "name": "stdout",
     "output_type": "stream",
     "text": [
      "Enter inventory (or done): 43\n",
      "Order 57 units.\n",
      "Enter inventory (or done): 23\n",
      "Order 77 units.\n",
      "Enter inventory (or done): 11\n",
      "Order 89 units.\n",
      "Enter inventory (or done): 44\n",
      "Order 56 units.\n",
      "Enter inventory (or done): 33\n",
      "Order 67 units.\n"
     ]
    }
   ],
   "source": [
    "from session3 import orderQuantity\n",
    "for i in range(5):\n",
    "    userInput=input('Enter inventory (or done): ')    \n",
    "    if userInput=='done':\n",
    "        break\n",
    "    elif userInput=='skip':\n",
    "        continue\n",
    "    inventory=int(userInput)\n",
    "    print ('Order',orderQuantity(inventory),'units.')"
   ]
  }
 ],
 "metadata": {
  "kernelspec": {
   "display_name": "Python 3",
   "language": "python",
   "name": "python3"
  },
  "language_info": {
   "codemirror_mode": {
    "name": "ipython",
    "version": 3
   },
   "file_extension": ".py",
   "mimetype": "text/x-python",
   "name": "python",
   "nbconvert_exporter": "python",
   "pygments_lexer": "ipython3",
   "version": "3.7.2"
  }
 },
 "nbformat": 4,
 "nbformat_minor": 2
}
