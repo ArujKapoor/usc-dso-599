{
 "cells": [
  {
   "cell_type": "markdown",
   "metadata": {},
   "source": [
    "# DSO-599 Practice Exam I (with Solutions)\n",
    "\n",
    "# Part I. Multiple Choice (1 point each)"
   ]
  },
  {
   "cell_type": "markdown",
   "metadata": {},
   "source": [
    "## 1. Predict the result of the following expression.\n",
    "\n",
    "```python\n",
    "str(int('4'+'3')+2)+'1'\n",
    "```\n",
    "\n",
    "**A)** `'721'`\n",
    "\n",
    "**B)** `'73'`\n",
    "\n",
    "**C)** `'433'`\n",
    "\n",
    "**D)** `'451'`\n",
    "\n",
    "**E)** `'4321'`"
   ]
  },
  {
   "cell_type": "code",
   "execution_count": 1,
   "metadata": {},
   "outputs": [
    {
     "data": {
      "text/plain": [
       "'451'"
      ]
     },
     "execution_count": 1,
     "metadata": {},
     "output_type": "execute_result"
    }
   ],
   "source": [
    "str(int('4'+'3')+2)+'1'"
   ]
  },
  {
   "cell_type": "markdown",
   "metadata": {},
   "source": [
    "## 2. Predict the output of the following code.\n",
    "\n",
    "```python\n",
    "a=3\n",
    "b=5\n",
    "c=1\n",
    "if a>b:\n",
    "    c=a+b+c\n",
    "elif a<b:\n",
    "    c=a-b-c\n",
    "else:\n",
    "    c=a*2\n",
    "print(c)\n",
    "```\n",
    "\n",
    "**A)** 9\n",
    "\n",
    "**B)** 6\n",
    "\n",
    "**C)** 5\n",
    "\n",
    "**D)** 1\n",
    "\n",
    "**E)** -3"
   ]
  },
  {
   "cell_type": "code",
   "execution_count": 2,
   "metadata": {},
   "outputs": [
    {
     "name": "stdout",
     "output_type": "stream",
     "text": [
      "-3\n"
     ]
    }
   ],
   "source": [
    "a=3\n",
    "b=5\n",
    "c=1\n",
    "if a>b:\n",
    "    c=a+b+c\n",
    "elif a<b:\n",
    "    c=a-b-c\n",
    "else:\n",
    "    c=a*2\n",
    "print(c)"
   ]
  },
  {
   "cell_type": "markdown",
   "metadata": {},
   "source": [
    "## 3. Predict the output of the following code.\n",
    "\n",
    "```python\n",
    "def a(x):\n",
    "    return 2*x\n",
    "def b(x):\n",
    "    return x+1\n",
    "x=0\n",
    "x=a(b(x))\n",
    "x=b(a(x))\n",
    "print(x)\n",
    "```\n",
    "\n",
    "**A)** 5  \n",
    "\n",
    "**B)** 4\n",
    "\n",
    "**C)** 3\n",
    "\n",
    "**D)** 2\n",
    "\n",
    "**E)** 0"
   ]
  },
  {
   "cell_type": "code",
   "execution_count": 3,
   "metadata": {},
   "outputs": [
    {
     "name": "stdout",
     "output_type": "stream",
     "text": [
      "5\n"
     ]
    }
   ],
   "source": [
    "def a(x):\n",
    "    return 2*x\n",
    "def b(x):\n",
    "    return x+1\n",
    "x=0\n",
    "x=a(b(x))\n",
    "x=b(a(x))\n",
    "print(x)"
   ]
  },
  {
   "cell_type": "markdown",
   "metadata": {},
   "source": [
    "## 4. Predict the output of the following code\n",
    "\n",
    "```python\n",
    "s=0\n",
    "for i in range(5):\n",
    "    s+=i\n",
    "print(s)\n",
    "```\n",
    "\n",
    "**A)** 0\n",
    "\n",
    "**B)** 4\n",
    "\n",
    "**C)** 5\n",
    "\n",
    "**D)** 10\n",
    "\n",
    "**E)** 15"
   ]
  },
  {
   "cell_type": "code",
   "execution_count": 4,
   "metadata": {},
   "outputs": [
    {
     "name": "stdout",
     "output_type": "stream",
     "text": [
      "10\n"
     ]
    }
   ],
   "source": [
    "s=0\n",
    "for i in range(5):\n",
    "    s+=i\n",
    "print(s)"
   ]
  },
  {
   "cell_type": "markdown",
   "metadata": {},
   "source": [
    "## 5. Predict the output of the following code\n",
    "\n",
    "```python\n",
    "l=[1,4,2,5,1]\n",
    "x=0\n",
    "for i in l:\n",
    "    if i>2:\n",
    "        x=i*2\n",
    "print(x)\n",
    "```\n",
    "\n",
    "**A)** 13\n",
    "\n",
    "**B)** 11\n",
    " \n",
    "**C)** 10\n",
    "\n",
    "**D)** 8\n",
    "\n",
    "**E)** 2"
   ]
  },
  {
   "cell_type": "code",
   "execution_count": 5,
   "metadata": {},
   "outputs": [
    {
     "name": "stdout",
     "output_type": "stream",
     "text": [
      "10\n"
     ]
    }
   ],
   "source": [
    "l=[1,4,2,5,1]\n",
    "x=0\n",
    "for i in l:\n",
    "    if i>2:\n",
    "        x=i*2\n",
    "print(x)"
   ]
  },
  {
   "cell_type": "markdown",
   "metadata": {},
   "source": [
    "## 6. Predict the output of the following code\n",
    "\n",
    "```python\n",
    "import pandas as pd\n",
    "df1=pd.DataFrame([[1,2],[3,4]])\n",
    "df2=pd.DataFrame([[5,6],[7,8]])\n",
    "print(pd.concat([df1,df2]).iloc[2,0])\n",
    "```\n",
    "\n",
    "**A)** 2\n",
    "\n",
    "**B)** 3\n",
    "\n",
    "**C)** 5\n",
    "\n",
    "**D)** 7\n",
    "\n",
    "**E)** 10"
   ]
  },
  {
   "cell_type": "code",
   "execution_count": 6,
   "metadata": {},
   "outputs": [
    {
     "name": "stdout",
     "output_type": "stream",
     "text": [
      "5\n"
     ]
    }
   ],
   "source": [
    "import pandas as pd\n",
    "df1=pd.DataFrame([[1,2],[3,4]])\n",
    "df2=pd.DataFrame([[5,6],[7,8]])\n",
    "print(pd.concat([df1,df2]).iloc[2,0])"
   ]
  },
  {
   "cell_type": "markdown",
   "metadata": {},
   "source": [
    "## 7. Predict the result of the last line of the following code\n",
    "```python\n",
    "import pandas as pd\n",
    "s=pd.Series({'apple':5,'orange':6,'banana':7,'grape':8})\n",
    "(s>=7).sum()\n",
    "```\n",
    "\n",
    "**A)** 2\n",
    "\n",
    "**B)** 8\n",
    "\n",
    "**C)** 15\n",
    "\n",
    "**D)**`'grape'`\n",
    "\n",
    "**E)**`'bananagrape'`"
   ]
  },
  {
   "cell_type": "code",
   "execution_count": 7,
   "metadata": {},
   "outputs": [
    {
     "name": "stdout",
     "output_type": "stream",
     "text": [
      "2\n"
     ]
    }
   ],
   "source": [
    "import pandas as pd\n",
    "s=pd.Series({'apple':5,'orange':6,'banana':7,'grape':8})\n",
    "print( (s>=7).sum() )"
   ]
  },
  {
   "cell_type": "markdown",
   "metadata": {},
   "source": [
    "## 8. Predict the result of the last line of the following code\n",
    "```python\n",
    "import pandas as pd\n",
    "df=pd.DataFrame([[1,3],[1,5],[2,3]],columns=['A','B'])\n",
    "df.groupby('A')['B'].mean()[1]\n",
    "```"
   ]
  },
  {
   "cell_type": "code",
   "execution_count": 8,
   "metadata": {},
   "outputs": [
    {
     "data": {
      "text/plain": [
       "4"
      ]
     },
     "execution_count": 8,
     "metadata": {},
     "output_type": "execute_result"
    }
   ],
   "source": [
    "import pandas as pd\n",
    "df=pd.DataFrame([[1,3],[1,5],[2,3]],columns=['A','B'])\n",
    "df.groupby('A')['B'].mean()[1]"
   ]
  },
  {
   "cell_type": "markdown",
   "metadata": {},
   "source": [
    "## 9. Which of the following lines has a syntax error?\n",
    "\n",
    "**A)** `a={5:[1,3],6:{2:4},'9':2}`\n",
    "\n",
    "**B)** `{6:2,5:1}[6]+3`\n",
    "\n",
    "**C)** `len([3,5]+[7])`\n",
    "\n",
    "**D)** `[3,5,2](0)+2`\n",
    "\n",
    "**E)** `('56'+str(2+5*5)).strip()`"
   ]
  },
  {
   "cell_type": "code",
   "execution_count": 9,
   "metadata": {},
   "outputs": [],
   "source": [
    "# The following line has error because the list [3,5,2] is not a function.\n",
    "[3,5,2](0)+2"
   ]
  },
  {
   "cell_type": "markdown",
   "metadata": {},
   "source": [
    "## 10. Which of the following lines has a syntax error? \n",
    "\n",
    "**Assume the following code is executed first:**\n",
    "\n",
    "```python\n",
    "import pandas as pd\n",
    "df=pd.DataFrame([['Apple',5,10],['Orange',6,5]],columns=['fruit','length','taste'])\n",
    "```\n",
    "\n",
    "**A)** `df.loc['Apple','length']*2`\n",
    "\n",
    "**B)** `df['length'].plot()`\n",
    "\n",
    "**C)** `(df['taste']*2).sum()`\n",
    "\n",
    "**D)** `df['fruit'][0]+' is great!'`\n",
    "\n",
    "**E)** `df.iloc[df.iloc[1,1]-df.iloc[0,1],:]`"
   ]
  },
  {
   "cell_type": "code",
   "execution_count": null,
   "metadata": {},
   "outputs": [],
   "source": [
    "import pandas as pd\n",
    "df=pd.DataFrame([['Apple',5,10],['Orange',6,5]],columns=['fruit','length','taste'])\n",
    "# The following line has an error because 'Apple' is a value in column 0, and not a row label.\n",
    "df.loc['Apple','length']*2"
   ]
  },
  {
   "cell_type": "markdown",
   "metadata": {},
   "source": [
    "# Part II. Writing Code"
   ]
  },
  {
   "cell_type": "markdown",
   "metadata": {},
   "source": [
    "## 11. Combining Datasets (3 points)\n",
    "\n",
    "Given the following DataFrames \"income\" and \"debt\", write code to create a DataFrame called \"combined\" as follows. (Note: your code must work given whatever data in \"income\" and \"debt\"; in other words, you will not obtain points if you hard-code the answer.)\n",
    "\n",
    "DataFrame called \"income\":\n",
    "\n",
    "|` `|Name |\tIncome |\n",
    "|--|--|--|\n",
    "|0 |\tAlice |\t10000 |\n",
    "|1 |\tBob |\t8000 |\n",
    "| 2|\tCharlie | \t12000|\n",
    "\n",
    "DataFrame called \"debt\":\n",
    "\n",
    "|` `|\tfirst_name |\tdebt |\n",
    "|--|--|--|\n",
    "|0 |\tEli |\t50000 |\n",
    "|1 |\tAlice | \t0 |\n",
    "|2 | \tCharlie| \t10000 |\n",
    "\n",
    "**After running your code, the DataFrame \"combined\" should be:** \n",
    "\n",
    "| ` ` | first_name | debt | Name | Income |\n",
    "|--|--|--|--|--|\n",
    "|0 |\tEli |\t50000 |\tNaN |\tNaN |\n",
    "|1 |\tAlice| \t0 |\tAlice |\t10000.0 |\n",
    "| 2|\tCharlie| \t10000 |\tCharlie |\t12000.0|\n",
    "\n",
    "\n",
    "**Complete the following code to make the DataFrame called \"combined\":**\n",
    "```python\n",
    "import pandas as pd\n",
    "income=pd.DataFrame([['Alice',10000],['Bob',8000],['Charlie',12000]]\\\n",
    "                    ,columns=['Name','Income'])\n",
    "debt=pd.DataFrame([['Eli',50000],['Alice',0],['Charlie',10000]]\\\n",
    "                  ,columns=['first_name','debt'])\n",
    "```\n"
   ]
  },
  {
   "cell_type": "code",
   "execution_count": 17,
   "metadata": {},
   "outputs": [],
   "source": [
    "import pandas as pd\n",
    "income=pd.DataFrame([['Alice',10000],['Bob',8000],['Charlie',12000]]\\\n",
    "                    ,columns=['Name','Income'])\n",
    "debt=pd.DataFrame([['Eli',50000],['Alice',0],['Charlie',10000]]\\\n",
    "                  ,columns=['first_name','debt'])\n",
    "combined=debt.merge(income,left_on='first_name',right_on='Name',how='left')"
   ]
  },
  {
   "cell_type": "markdown",
   "metadata": {},
   "source": [
    "## 12. Manipulating Dictionaries (6 points)\n",
    "\n",
    "Write a function called \"sumDomains\" with one input:\n",
    "\n",
    "    - dic: a dictionary in which the keys are strings and the values are numbers.\n",
    "\n",
    "The function should return the sum of the values for which the key ends with \".com\", \".edu\". (Case insensitive)\n",
    "\n",
    "**Example 1:**\n",
    "\n",
    "Running\n",
    "```python\n",
    "sumDomains({'apple.com':10, 'google':5, 'USC.EDU':3})\n",
    "```\n",
    "yields the output:\n",
    "\n",
    "``` 13 ```\n",
    "\n",
    "**Example 2:**\n",
    "\n",
    "Running\n",
    "```python\n",
    "sumDomains({'a':5,'b':6,'c':3,'happy.org':5})\n",
    "```\n",
    "yields the output:\n",
    "\n",
    "``` 0 ```\n",
    "\n",
    "\n",
    "**Example 3:**\n",
    "\n",
    "Running\n",
    "```python\n",
    "sumDomains({'usc.edu':3,'ucla.edu':-1,'Google.COM':2})\n",
    "```\n",
    "yields the output:\n",
    "\n",
    "``` 4 ```"
   ]
  },
  {
   "cell_type": "code",
   "execution_count": 11,
   "metadata": {},
   "outputs": [],
   "source": [
    "def sumDomains(dic):\n",
    "    s=0\n",
    "    for key in dic:        \n",
    "        if key.lower().endswith('.edu') or key.lower().endswith('.com'):\n",
    "            s+=dic[key]\n",
    "    return s"
   ]
  },
  {
   "cell_type": "code",
   "execution_count": 12,
   "metadata": {},
   "outputs": [
    {
     "data": {
      "text/plain": [
       "13"
      ]
     },
     "execution_count": 12,
     "metadata": {},
     "output_type": "execute_result"
    }
   ],
   "source": [
    "sumDomains({'apple.com':10, 'google':5, 'USC.EDU':3})"
   ]
  },
  {
   "cell_type": "code",
   "execution_count": 13,
   "metadata": {},
   "outputs": [
    {
     "data": {
      "text/plain": [
       "0"
      ]
     },
     "execution_count": 13,
     "metadata": {},
     "output_type": "execute_result"
    }
   ],
   "source": [
    "sumDomains({'a':5,'b':6,'c':3,'happy.org':5})"
   ]
  },
  {
   "cell_type": "code",
   "execution_count": 14,
   "metadata": {},
   "outputs": [
    {
     "data": {
      "text/plain": [
       "4"
      ]
     },
     "execution_count": 14,
     "metadata": {},
     "output_type": "execute_result"
    }
   ],
   "source": [
    "sumDomains({'usc.edu':3,'ucla.edu':-1,'Google.COM':2})\n"
   ]
  },
  {
   "cell_type": "markdown",
   "metadata": {},
   "source": [
    "## 14. Computing Course Grade (6 points)\n",
    "\n",
    "Write a program to prompt for a score between 0.0 and 1.0, using the prompt string \"Enter score: \". If the score is out of range, print \"Bad score\". If the score is between 0.0 and 1.0 (inclusive), print a grade using the following table:\n",
    "\n",
    "|Score | Grade |\n",
    "| -- | -- |\n",
    "|>= 0.9 | A  |\n",
    "|>= 0.8 | B |\n",
    "|>= 0.7 | C |\n",
    "| >= 0.6 | D |\n",
    "| < 0.6 | F |\n",
    "\n",
    "The program should terminate after asking user for one input (you do not need to make the program repeat forever). Moreover, you can assume that the user will only input valid numbers. Below are four sample runs.\n",
    "\n",
    "\n",
    "**Sample run 1:**\n",
    "\n",
    "```\n",
    "Enter score: 0.95\n",
    "A\n",
    "```\n",
    "\n",
    "**Sample run 2:**\n",
    "```\n",
    "Enter score: 10\n",
    "Bad score\n",
    "```\n",
    "\n",
    "**Sample run 3:**\n",
    "```\n",
    "Enter score: 0\n",
    "F\n",
    "```\n",
    "\n",
    "\n",
    "**Sample run 4:**\n",
    "```\n",
    "Enter score: -0.5\n",
    "Bad score\n",
    "```"
   ]
  },
  {
   "cell_type": "code",
   "execution_count": 15,
   "metadata": {},
   "outputs": [
    {
     "name": "stdout",
     "output_type": "stream",
     "text": [
      "Enter score: 1\n",
      "A\n"
     ]
    }
   ],
   "source": [
    "score=float(input('Enter score: '))\n",
    "if score>1 or score<0:\n",
    "    output='Bad score'\n",
    "elif score>=0.9:\n",
    "    output='A'\n",
    "elif score>=0.8:\n",
    "    output='B'\n",
    "elif score>=0.7:\n",
    "    output='C'\n",
    "elif score>=0.6:\n",
    "    output='D'\n",
    "else:\n",
    "    output='F'\n",
    "print(output)"
   ]
  }
 ],
 "metadata": {
  "kernelspec": {
   "display_name": "Python 3",
   "language": "python",
   "name": "python3"
  },
  "language_info": {
   "codemirror_mode": {
    "name": "ipython",
    "version": 3
   },
   "file_extension": ".py",
   "mimetype": "text/x-python",
   "name": "python",
   "nbconvert_exporter": "python",
   "pygments_lexer": "ipython3",
   "version": "3.7.2"
  }
 },
 "nbformat": 4,
 "nbformat_minor": 2
}
