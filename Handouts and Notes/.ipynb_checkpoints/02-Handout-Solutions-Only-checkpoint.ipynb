{
 "cells": [
  {
   "cell_type": "markdown",
   "metadata": {},
   "source": [
    "# Handout for Session 2 (Solutions Only)\n"
   ]
  },
  {
   "cell_type": "markdown",
   "metadata": {},
   "source": [
    "## Case 1. Calculator for Present Value\n",
    "\n",
    "Write a program that calculates the present value of a certain investment, which will pay off a cash value of $C$ in $n$ years. The program should ask the user to input the final cash value $C$, the annual interest rate $r$ (in percentage points), and the number of years $n$. The formula for present value $V$ is\n",
    "\n",
    "$$V=\\frac{C}{(1+\\frac{r}{100})^n}$$\n",
    "\n",
    "``` \n",
    "Input the final cash value: 1000000\n",
    "Input the annual interest rate in percent: 4.5\n",
    "Input the number of years: 10\n",
    "The present value is 643927.682030043\n",
    "```"
   ]
  },
  {
   "cell_type": "code",
   "execution_count": 1,
   "metadata": {},
   "outputs": [
    {
     "name": "stdout",
     "output_type": "stream",
     "text": [
      "Input the final cash value: 1000000\n",
      "Input the annual interest rate in percent: 4.5\n",
      "Input the number of years: 10\n",
      "The present value is 643927.682030043\n"
     ]
    }
   ],
   "source": [
    "reward=float(input('Input the final cash value: '))\n",
    "interest=float(input('Input the annual interest rate in percent: '))\n",
    "years=float(input('Input the number of years: '))\n",
    "PV=reward/(1+interest/100)**years\n",
    "print('The present value is',PV)"
   ]
  },
  {
   "cell_type": "markdown",
   "metadata": {},
   "source": [
    "## Case 2. Basestock Policy in Inventory Management\n",
    "Write a program that asks the user for the current inventory level. If the inventory is at least equal to $100$, then output `Sufficient inventory. No need to order.` Otherwise, output `Order x units`, where `x` is $100$ minus the inventory.\n",
    "\n",
    "Sample output:\n",
    "```\n",
    "Current inventory: 75\n",
    "Order 25 units\n",
    "```"
   ]
  },
  {
   "cell_type": "code",
   "execution_count": 1,
   "metadata": {},
   "outputs": [
    {
     "name": "stdout",
     "output_type": "stream",
     "text": [
      "Current inventory: 25\n",
      "Order 75 units.\n"
     ]
    }
   ],
   "source": [
    "basestock=100\n",
    "inventory=input('Current inventory: ')\n",
    "inventory=int(inventory)\n",
    "    \n",
    "if inventory>=basestock:\n",
    "    print('Sufficient inventory. No need to order.')\n",
    "else:\n",
    "    print('Order',basestock-inventory,'units.')"
   ]
  },
  {
   "cell_type": "markdown",
   "metadata": {},
   "source": [
    "## Case 3. Wage Calculator for Payroll\n",
    "Write a program that asks the user for how many hours they worked this week, and output their total weekly pay. Pay is calculated as follows: for the first 40 hours, the hourly pay is 10. After that there is a 50 percent bonus per additional hour worked.\n",
    "\n",
    "Sample output:\n",
    "```\n",
    "Hours worked this week:42.5\n",
    "Total pay this week is 437.5\n",
    "```"
   ]
  },
  {
   "cell_type": "code",
   "execution_count": 2,
   "metadata": {},
   "outputs": [
    {
     "name": "stdout",
     "output_type": "stream",
     "text": [
      "Hours worked this week:42.5\n",
      "Total pay this week is 437.5\n"
     ]
    }
   ],
   "source": [
    "baseWage=10\n",
    "bonus=5\n",
    "hours=input('Hours worked this week:')\n",
    "hours=float(hours)\n",
    "if hours<=40:\n",
    "    pay=hours*baseWage\n",
    "else:\n",
    "    pay=hours*baseWage+(hours-40)*bonus\n",
    "print('Total pay this week is',pay)"
   ]
  },
  {
   "cell_type": "markdown",
   "metadata": {},
   "source": [
    "# Additional Exercises for Session 2\n",
    "\n",
    "## Case 4. Blood Pressure Checker\n",
    "\n",
    "Write a program that asks for the user's systolic and diastolic blood pressure, and output one of `LOW`, `IDEAL`, `PRE-HIGH` or `HIGH` according to the following chart. \n",
    "\n",
    "![Blood pressure chart](images/blood_chart.png)"
   ]
  },
  {
   "cell_type": "code",
   "execution_count": 3,
   "metadata": {},
   "outputs": [
    {
     "name": "stdout",
     "output_type": "stream",
     "text": [
      "Systolic blood pressure:130\n",
      "Diastolic blood pressure:90\n",
      "Your blood pressure is PRE-HIGH\n"
     ]
    }
   ],
   "source": [
    "high=float(input('Systolic blood pressure:'))\n",
    "low=float(input('Diastolic blood pressure:'))\n",
    "if low<=60 and high<=90:\n",
    "    answer='LOW'\n",
    "elif low<=80 and high<=120:\n",
    "    answer='IDEAL'\n",
    "elif low<=90 and high<=140:\n",
    "    answer='PRE-HIGH'\n",
    "else:\n",
    "    answer='HIGH'\n",
    "    \n",
    "print('Your blood pressure is',answer)"
   ]
  },
  {
   "cell_type": "markdown",
   "metadata": {},
   "source": [
    "## Case 5. Blood Sugar Checker\n",
    "\n",
    "Write a program that asks the user how many hours they have fasted and their current blood sugar level. If they have fasted less than 2 hours, then output `You need to fast at least 2 hours to perform this test.` If they fasted at least 2 hours but less than 8 hours, then output `Your blood sugar level is high` if it is more than 140, and `Your blood sugar level is normal` otherwise. If they have fasted for at least 8 hours, then the threshold changes to 100 (instead of 140)."
   ]
  },
  {
   "cell_type": "code",
   "execution_count": 5,
   "metadata": {},
   "outputs": [
    {
     "name": "stdout",
     "output_type": "stream",
     "text": [
      "How many hours have you fasted: 3\n",
      "What is your blood sugar level: 150\n",
      "You blood sugar level is high.\n"
     ]
    }
   ],
   "source": [
    "hours=float(input('How many hours have you fasted: '))\n",
    "level=float(input('What is your blood sugar level: '))\n",
    "high_msg='You blood sugar level is high.'\n",
    "low_msg='Your blood suguar level is normal.'\n",
    "if hours<2:\n",
    "    print('You need to fast at least 2 hours to perform this test.')\n",
    "elif hours<8:\n",
    "    if level>140:    \n",
    "        print(high_msg)\n",
    "    else:\n",
    "        print(low_msg)\n",
    "else:\n",
    "    if level>100:    \n",
    "        print(high_msg)\n",
    "    else:\n",
    "        print(low_msg)"
   ]
  }
 ],
 "metadata": {
  "kernelspec": {
   "display_name": "Python 3",
   "language": "python",
   "name": "python3"
  },
  "language_info": {
   "codemirror_mode": {
    "name": "ipython",
    "version": 3
   },
   "file_extension": ".py",
   "mimetype": "text/x-python",
   "name": "python",
   "nbconvert_exporter": "python",
   "pygments_lexer": "ipython3",
   "version": "3.7.2"
  }
 },
 "nbformat": 4,
 "nbformat_minor": 2
}
