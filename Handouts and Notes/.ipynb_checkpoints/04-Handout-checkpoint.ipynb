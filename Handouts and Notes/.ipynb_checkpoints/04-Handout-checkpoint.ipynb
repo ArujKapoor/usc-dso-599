{
 "cells": [
  {
   "cell_type": "markdown",
   "metadata": {},
   "source": [
    "# Session 4 Handout"
   ]
  },
  {
   "cell_type": "markdown",
   "metadata": {},
   "source": [
    "## 1. Using `while` loops\n",
    "\n",
    "The following code assumes that you have a correct `orderQuantity` function from last session in a `session3.py` file in the current directory."
   ]
  },
  {
   "cell_type": "code",
   "execution_count": 1,
   "metadata": {},
   "outputs": [
    {
     "name": "stdout",
     "output_type": "stream",
     "text": [
      "Enter inventory (or done): skip\n",
      "Enter inventory (or done): 30\n",
      "Order 70 units.\n",
      "Enter inventory (or done): 25\n",
      "Order 75 units.\n",
      "Enter inventory (or done): done\n"
     ]
    }
   ],
   "source": [
    "from session3 import orderQuantity\n",
    "while True:\n",
    "    userInput=input('Enter inventory (or done): ')    \n",
    "    if userInput=='done':\n",
    "        break\n",
    "    elif userInput=='skip':\n",
    "        continue\n",
    "    inventory=int(userInput)\n",
    "    print ('Order',orderQuantity(inventory),'units.')"
   ]
  },
  {
   "cell_type": "markdown",
   "metadata": {},
   "source": [
    "Alternative implementation without using `break` or `continue`."
   ]
  },
  {
   "cell_type": "code",
   "execution_count": null,
   "metadata": {},
   "outputs": [],
   "source": [
    "userInput=input('Enter inventory (or done): ')\n",
    "while userInput!='done':\n",
    "    if userInput!='skip':\n",
    "        inventory=int(userInput)\n",
    "        print ('Order',orderQuantity(inventory),'units.')\n",
    "    userInput=input('Enter inventory (or done): ')"
   ]
  },
  {
   "cell_type": "markdown",
   "metadata": {},
   "source": [
    "**Q1:** Write a program to repeatedly ask the user to input the number of hours worked, and display the total pay, assuming that the rate for first 40 hours is 10/hour, and the rate for additional hours is 15/hour. The program should terminate whenever the user inputs `done`."
   ]
  },
  {
   "cell_type": "code",
   "execution_count": 2,
   "metadata": {},
   "outputs": [
    {
     "name": "stdout",
     "output_type": "stream",
     "text": [
      "Enter hours worked (or done): 38\n",
      "Pay is 380.0\n",
      "Enter hours worked (or done): 42\n",
      "Pay is 430.0\n",
      "Enter hours worked (or done): done\n"
     ]
    }
   ],
   "source": []
  },
  {
   "cell_type": "markdown",
   "metadata": {},
   "source": [
    "**(optional) Q2**: Rewrite the code in Q1 but do not use `break`.\n",
    "\n",
    "The following function uses `try` and `except` (see PY4E Chapter 3) for checking whether a certain value is convertable to a `float`."
   ]
  },
  {
   "cell_type": "code",
   "execution_count": 3,
   "metadata": {},
   "outputs": [
    {
     "name": "stdout",
     "output_type": "stream",
     "text": [
      "True\n",
      "True\n",
      "False\n"
     ]
    }
   ],
   "source": [
    "def isNumber(x):\n",
    "    try:\n",
    "        float(x)\n",
    "        return True\n",
    "    except:\n",
    "        return False\n",
    "\n",
    "print(isNumber(3))\n",
    "print(isNumber('3'))\n",
    "print(isNumber('three'))"
   ]
  },
  {
   "cell_type": "markdown",
   "metadata": {},
   "source": [
    "**Q3:** Modify the first example of this handout so that if the user does not input `done` nor an integer, then the program prints `Invalid input.` and asks for another input. (Hint: first write an `isInteger(x)` function by modifying the above, then use an `if` statement to decide whether to convert the input to an integer, or display `Invalid input.`)"
   ]
  },
  {
   "cell_type": "code",
   "execution_count": 4,
   "metadata": {},
   "outputs": [
    {
     "name": "stdout",
     "output_type": "stream",
     "text": [
      "Enter inventory (or done): 2.5\n",
      "Invalid input.\n",
      "Enter inventory (or done): 30\n",
      "Order 70 units.\n",
      "Enter inventory (or done): thirty\n",
      "Invalid input.\n",
      "Enter inventory (or done): done\n"
     ]
    }
   ],
   "source": []
  },
  {
   "cell_type": "markdown",
   "metadata": {},
   "source": [
    "## 2. Using `for` loops"
   ]
  },
  {
   "cell_type": "code",
   "execution_count": 5,
   "metadata": {},
   "outputs": [
    {
     "name": "stdout",
     "output_type": "stream",
     "text": [
      "0 3 5 2 "
     ]
    }
   ],
   "source": [
    "for i in [0,3,5,2]:\n",
    "    print(i,end=' ')"
   ]
  },
  {
   "cell_type": "code",
   "execution_count": 6,
   "metadata": {},
   "outputs": [
    {
     "name": "stdout",
     "output_type": "stream",
     "text": [
      "0 1 2 3 4 "
     ]
    }
   ],
   "source": [
    "for i in range(5):\n",
    "    print(i,end=' ')"
   ]
  },
  {
   "cell_type": "markdown",
   "metadata": {},
   "source": [
    "**Q4:** Modify the first example of the handout to use a `for` loop instead of a `while` loop, and limit the number of iterations to at most 5.\n",
    "\n"
   ]
  }
 ],
 "metadata": {
  "kernelspec": {
   "display_name": "Python 3",
   "language": "python",
   "name": "python3"
  },
  "language_info": {
   "codemirror_mode": {
    "name": "ipython",
    "version": 3
   },
   "file_extension": ".py",
   "mimetype": "text/x-python",
   "name": "python",
   "nbconvert_exporter": "python",
   "pygments_lexer": "ipython3",
   "version": "3.7.1"
  }
 },
 "nbformat": 4,
 "nbformat_minor": 2
}
