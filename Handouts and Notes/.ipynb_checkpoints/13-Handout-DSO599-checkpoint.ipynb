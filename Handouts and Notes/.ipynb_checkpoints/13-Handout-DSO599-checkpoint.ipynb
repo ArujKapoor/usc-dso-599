{
 "cells": [
  {
   "cell_type": "markdown",
   "metadata": {},
   "source": [
    "# Session 13: Analyzing Text Data in Pandas"
   ]
  },
  {
   "cell_type": "markdown",
   "metadata": {},
   "source": [
    "### Setting up"
   ]
  },
  {
   "cell_type": "code",
   "execution_count": 1,
   "metadata": {},
   "outputs": [
    {
     "data": {
      "text/html": [
       "<div>\n",
       "<style scoped>\n",
       "    .dataframe tbody tr th:only-of-type {\n",
       "        vertical-align: middle;\n",
       "    }\n",
       "\n",
       "    .dataframe tbody tr th {\n",
       "        vertical-align: top;\n",
       "    }\n",
       "\n",
       "    .dataframe thead th {\n",
       "        text-align: right;\n",
       "    }\n",
       "</style>\n",
       "<table border=\"1\" class=\"dataframe\">\n",
       "  <thead>\n",
       "    <tr style=\"text-align: right;\">\n",
       "      <th></th>\n",
       "      <th>course</th>\n",
       "      <th>instructor</th>\n",
       "      <th>end_time</th>\n",
       "      <th>days</th>\n",
       "      <th>room</th>\n",
       "      <th>term</th>\n",
       "      <th>title</th>\n",
       "    </tr>\n",
       "  </thead>\n",
       "  <tbody>\n",
       "    <tr>\n",
       "      <th>0</th>\n",
       "      <td>ACCT-370</td>\n",
       "      <td>Hopkins, Merle, W</td>\n",
       "      <td>11:50:00</td>\n",
       "      <td>F</td>\n",
       "      <td>SLH200</td>\n",
       "      <td>20153</td>\n",
       "      <td>External Financial Reporting Issues</td>\n",
       "    </tr>\n",
       "    <tr>\n",
       "      <th>1</th>\n",
       "      <td>ACCT-370</td>\n",
       "      <td>Hopkins, Merle, W</td>\n",
       "      <td>09:50:00</td>\n",
       "      <td>MW</td>\n",
       "      <td>ACC303</td>\n",
       "      <td>20153</td>\n",
       "      <td>External Financial Reporting Issues</td>\n",
       "    </tr>\n",
       "    <tr>\n",
       "      <th>2</th>\n",
       "      <td>ACCT-370</td>\n",
       "      <td>Hopkins, Merle, W</td>\n",
       "      <td>11:50:00</td>\n",
       "      <td>MW</td>\n",
       "      <td>ACC303</td>\n",
       "      <td>20153</td>\n",
       "      <td>External Financial Reporting Issues</td>\n",
       "    </tr>\n",
       "    <tr>\n",
       "      <th>3</th>\n",
       "      <td>ACCT-370</td>\n",
       "      <td>Hopkins, Merle, W</td>\n",
       "      <td>13:50:00</td>\n",
       "      <td>MW</td>\n",
       "      <td>ACC303</td>\n",
       "      <td>20153</td>\n",
       "      <td>External Financial Reporting Issues</td>\n",
       "    </tr>\n",
       "    <tr>\n",
       "      <th>4</th>\n",
       "      <td>ACCT-371</td>\n",
       "      <td>NaN</td>\n",
       "      <td>11:50:00</td>\n",
       "      <td>F</td>\n",
       "      <td>SLH200</td>\n",
       "      <td>20153</td>\n",
       "      <td>Introduction to Accounting Systems</td>\n",
       "    </tr>\n",
       "  </tbody>\n",
       "</table>\n",
       "</div>"
      ],
      "text/plain": [
       "     course         instructor  end_time days    room   term  \\\n",
       "0  ACCT-370  Hopkins, Merle, W  11:50:00    F  SLH200  20153   \n",
       "1  ACCT-370  Hopkins, Merle, W  09:50:00   MW  ACC303  20153   \n",
       "2  ACCT-370  Hopkins, Merle, W  11:50:00   MW  ACC303  20153   \n",
       "3  ACCT-370  Hopkins, Merle, W  13:50:00   MW  ACC303  20153   \n",
       "4  ACCT-371                NaN  11:50:00    F  SLH200  20153   \n",
       "\n",
       "                                 title  \n",
       "0  External Financial Reporting Issues  \n",
       "1  External Financial Reporting Issues  \n",
       "2  External Financial Reporting Issues  \n",
       "3  External Financial Reporting Issues  \n",
       "4   Introduction to Accounting Systems  "
      ]
     },
     "execution_count": 1,
     "metadata": {},
     "output_type": "execute_result"
    }
   ],
   "source": [
    "import pandas as pd\n",
    "courses=pd.read_excel('Marshall_Course_Enrollment_1516_1617.xlsx')\\\n",
    "    [['Course','First Instructor','First End Time','First Days','First Room','Term','Title']]\n",
    "courses.columns=['course','instructor','end_time','days','room','term','title']\n",
    "courses['end_time']=courses['end_time'].astype(str)\n",
    "courses.head()"
   ]
  },
  {
   "cell_type": "code",
   "execution_count": 2,
   "metadata": {},
   "outputs": [
    {
     "data": {
      "text/plain": [
       "0          Hopkins, Merle, W\n",
       "4                        NaN\n",
       "5     Porter, Leslie, Robert\n",
       "9            Karuna, Christo\n",
       "13           Layton, Rose, M\n",
       "Name: instructor, dtype: object"
      ]
     },
     "execution_count": 2,
     "metadata": {},
     "output_type": "execute_result"
    }
   ],
   "source": [
    "instructors=courses['instructor'].drop_duplicates().head()\n",
    "instructors"
   ]
  },
  {
   "cell_type": "markdown",
   "metadata": {},
   "source": [
    "## 1. Applying a Function to an Entire Series"
   ]
  },
  {
   "cell_type": "code",
   "execution_count": 3,
   "metadata": {},
   "outputs": [
    {
     "data": {
      "text/plain": [
       "'Hopkins, Merle, W'"
      ]
     },
     "execution_count": 3,
     "metadata": {},
     "output_type": "execute_result"
    }
   ],
   "source": [
    "s=instructors[0]\n",
    "s"
   ]
  },
  {
   "cell_type": "code",
   "execution_count": 4,
   "metadata": {},
   "outputs": [
    {
     "data": {
      "text/plain": [
       "['Hopkins', ' Merle', ' W']"
      ]
     },
     "execution_count": 4,
     "metadata": {},
     "output_type": "execute_result"
    }
   ],
   "source": [
    "s.split(',')"
   ]
  },
  {
   "cell_type": "code",
   "execution_count": 5,
   "metadata": {},
   "outputs": [
    {
     "data": {
      "text/plain": [
       "'Merle'"
      ]
     },
     "execution_count": 5,
     "metadata": {},
     "output_type": "execute_result"
    }
   ],
   "source": [
    "l=s.split(',')\n",
    "l[1].strip()"
   ]
  },
  {
   "cell_type": "code",
   "execution_count": 6,
   "metadata": {},
   "outputs": [
    {
     "data": {
      "text/plain": [
       "'Peng'"
      ]
     },
     "execution_count": 6,
     "metadata": {},
     "output_type": "execute_result"
    }
   ],
   "source": [
    "from numpy import nan\n",
    "def getFirst(s):\n",
    "    if type(s)!=str:\n",
    "        return nan\n",
    "    l=s.split(',')\n",
    "    if len(l)<=1:\n",
    "        return nan\n",
    "    return l[1].strip()\n",
    "getFirst('Shi, Peng')"
   ]
  },
  {
   "cell_type": "code",
   "execution_count": 7,
   "metadata": {},
   "outputs": [
    {
     "data": {
      "text/plain": [
       "nan"
      ]
     },
     "execution_count": 7,
     "metadata": {},
     "output_type": "execute_result"
    }
   ],
   "source": [
    "getFirst(nan)"
   ]
  },
  {
   "cell_type": "code",
   "execution_count": 8,
   "metadata": {},
   "outputs": [
    {
     "data": {
      "text/plain": [
       "nan"
      ]
     },
     "execution_count": 8,
     "metadata": {},
     "output_type": "execute_result"
    }
   ],
   "source": [
    "getFirst('Shi')"
   ]
  },
  {
   "cell_type": "code",
   "execution_count": 9,
   "metadata": {},
   "outputs": [
    {
     "data": {
      "text/plain": [
       "0       Merle\n",
       "4         NaN\n",
       "5      Leslie\n",
       "9     Christo\n",
       "13       Rose\n",
       "Name: instructor, dtype: object"
      ]
     },
     "execution_count": 9,
     "metadata": {},
     "output_type": "execute_result"
    }
   ],
   "source": [
    "instructors.apply(getFirst)"
   ]
  },
  {
   "cell_type": "markdown",
   "metadata": {},
   "source": [
    "**Q1:** Create the following columns in the DataFrame \"courses\":\n",
    "\n",
    "- first_name: the first name of the instructor. Use NaN if not available.\n",
    "- last_name: the last name of the instructor. Use Nan if not available."
   ]
  },
  {
   "cell_type": "code",
   "execution_count": 13,
   "metadata": {},
   "outputs": [
    {
     "data": {
      "text/html": [
       "<div>\n",
       "<style scoped>\n",
       "    .dataframe tbody tr th:only-of-type {\n",
       "        vertical-align: middle;\n",
       "    }\n",
       "\n",
       "    .dataframe tbody tr th {\n",
       "        vertical-align: top;\n",
       "    }\n",
       "\n",
       "    .dataframe thead th {\n",
       "        text-align: right;\n",
       "    }\n",
       "</style>\n",
       "<table border=\"1\" class=\"dataframe\">\n",
       "  <thead>\n",
       "    <tr style=\"text-align: right;\">\n",
       "      <th></th>\n",
       "      <th>instructor</th>\n",
       "      <th>first_name</th>\n",
       "      <th>last_name</th>\n",
       "    </tr>\n",
       "  </thead>\n",
       "  <tbody>\n",
       "    <tr>\n",
       "      <th>0</th>\n",
       "      <td>Hopkins, Merle, W</td>\n",
       "      <td>Merle</td>\n",
       "      <td>Hopkins</td>\n",
       "    </tr>\n",
       "    <tr>\n",
       "      <th>1</th>\n",
       "      <td>Hopkins, Merle, W</td>\n",
       "      <td>Merle</td>\n",
       "      <td>Hopkins</td>\n",
       "    </tr>\n",
       "    <tr>\n",
       "      <th>2</th>\n",
       "      <td>Hopkins, Merle, W</td>\n",
       "      <td>Merle</td>\n",
       "      <td>Hopkins</td>\n",
       "    </tr>\n",
       "    <tr>\n",
       "      <th>3</th>\n",
       "      <td>Hopkins, Merle, W</td>\n",
       "      <td>Merle</td>\n",
       "      <td>Hopkins</td>\n",
       "    </tr>\n",
       "    <tr>\n",
       "      <th>4</th>\n",
       "      <td>NaN</td>\n",
       "      <td>NaN</td>\n",
       "      <td>NaN</td>\n",
       "    </tr>\n",
       "  </tbody>\n",
       "</table>\n",
       "</div>"
      ],
      "text/plain": [
       "          instructor first_name last_name\n",
       "0  Hopkins, Merle, W      Merle   Hopkins\n",
       "1  Hopkins, Merle, W      Merle   Hopkins\n",
       "2  Hopkins, Merle, W      Merle   Hopkins\n",
       "3  Hopkins, Merle, W      Merle   Hopkins\n",
       "4                NaN        NaN       NaN"
      ]
     },
     "execution_count": 13,
     "metadata": {},
     "output_type": "execute_result"
    }
   ],
   "source": [
    "courses[['instructor','first_name','last_name']].head()"
   ]
  },
  {
   "cell_type": "markdown",
   "metadata": {},
   "source": [
    "**Q2:** Extract the hour from the column \"end_time\", and convert it to integers using \"pd.to_numeric\" (with errors='coerce'). Then create a columns called \"evening\" in the DataFrame \"courses\", corresponding to whether the hour is greater than or equal to 18."
   ]
  },
  {
   "cell_type": "markdown",
   "metadata": {},
   "source": [
    "Once you have created the column, you can compute the proportion of evening courses for each term."
   ]
  },
  {
   "cell_type": "code",
   "execution_count": 38,
   "metadata": {},
   "outputs": [
    {
     "data": {
      "text/plain": [
       "<matplotlib.axes._subplots.AxesSubplot at 0x7f19128585c0>"
      ]
     },
     "execution_count": 38,
     "metadata": {},
     "output_type": "execute_result"
    },
    {
     "data": {
      "image/png": "[encoded data removed]",
      "text/plain": [
       "<Figure size 432x288 with 1 Axes>"
      ]
     },
     "metadata": {
      "needs_background": "light"
     },
     "output_type": "display_data"
    }
   ],
   "source": [
    "courses.groupby('term')['evening'].mean()\\\n",
    "    .plot(kind='bar',title='Proportion of evening sections')"
   ]
  },
  {
   "cell_type": "markdown",
   "metadata": {},
   "source": [
    "## 2. Vectorized String Methods in Pandas"
   ]
  },
  {
   "cell_type": "code",
   "execution_count": 19,
   "metadata": {},
   "outputs": [
    {
     "data": {
      "text/plain": [
       "0      SLH200\n",
       "1      ACC303\n",
       "8     HOH EDI\n",
       "9      ACC310\n",
       "22     HOH305\n",
       "Name: room, dtype: object"
      ]
     },
     "execution_count": 19,
     "metadata": {},
     "output_type": "execute_result"
    }
   ],
   "source": [
    "room=courses['room'].drop_duplicates()\n",
    "room.head()"
   ]
  },
  {
   "cell_type": "code",
   "execution_count": 20,
   "metadata": {},
   "outputs": [
    {
     "data": {
      "text/plain": [
       "0     SLH\n",
       "1     ACC\n",
       "8     HOH\n",
       "9     ACC\n",
       "22    HOH\n",
       "Name: room, dtype: object"
      ]
     },
     "execution_count": 20,
     "metadata": {},
     "output_type": "execute_result"
    }
   ],
   "source": [
    "room.str[:3].head()"
   ]
  },
  {
   "cell_type": "code",
   "execution_count": 21,
   "metadata": {},
   "outputs": [
    {
     "data": {
      "text/plain": [
       "<matplotlib.axes._subplots.AxesSubplot at 0x7f1912ab1908>"
      ]
     },
     "execution_count": 21,
     "metadata": {},
     "output_type": "execute_result"
    },
    {
     "data": {
      "image/png": "[encoded data removed]",
      "text/plain": [
       "<Figure size 432x288 with 1 Axes>"
      ]
     },
     "metadata": {
      "needs_background": "light"
     },
     "output_type": "display_data"
    }
   ],
   "source": [
    "courses['building']=courses['room'].str[:3]\n",
    "courses[courses['building'].isin(['ACC','HOH','BRI','JKP','JFF'])]\\\n",
    "    .query('term==20171')\\\n",
    "    .groupby('building')['course'].count().sort_values()\\\n",
    "    .plot(kind='bar',title='Number of sections by building in 2017 Spring')"
   ]
  },
  {
   "cell_type": "markdown",
   "metadata": {},
   "source": [
    "**List of Available Series.str.XXX methods**: https://pandas.pydata.org/pandas-docs/version/0.21/api.html#string-handling"
   ]
  },
  {
   "cell_type": "code",
   "execution_count": 22,
   "metadata": {},
   "outputs": [
    {
     "data": {
      "text/plain": [
       "0     F\n",
       "1    MW\n",
       "2    MW\n",
       "3    MW\n",
       "4     F\n",
       "Name: days, dtype: object"
      ]
     },
     "execution_count": 22,
     "metadata": {},
     "output_type": "execute_result"
    }
   ],
   "source": [
    "courses['days'].head()"
   ]
  },
  {
   "cell_type": "code",
   "execution_count": 23,
   "metadata": {},
   "outputs": [
    {
     "data": {
      "text/plain": [
       "0    False\n",
       "1     True\n",
       "2     True\n",
       "3     True\n",
       "4    False\n",
       "Name: days, dtype: object"
      ]
     },
     "execution_count": 23,
     "metadata": {},
     "output_type": "execute_result"
    }
   ],
   "source": [
    "courses['days'].str.contains('M').head()"
   ]
  },
  {
   "cell_type": "code",
   "execution_count": 24,
   "metadata": {},
   "outputs": [
    {
     "data": {
      "text/plain": [
       "0.38487394957983195"
      ]
     },
     "execution_count": 24,
     "metadata": {},
     "output_type": "execute_result"
    }
   ],
   "source": [
    "courses.query('term==20171')['days'].str.contains('M').mean()"
   ]
  },
  {
   "cell_type": "code",
   "execution_count": 25,
   "metadata": {},
   "outputs": [
    {
     "data": {
      "text/plain": [
       "0    False\n",
       "1     True\n",
       "2     True\n",
       "3     True\n",
       "4    False\n",
       "Name: days, dtype: object"
      ]
     },
     "execution_count": 25,
     "metadata": {},
     "output_type": "execute_result"
    }
   ],
   "source": [
    "import re\n",
    "courses['days'].str.contains('m',flags=re.IGNORECASE).head()"
   ]
  },
  {
   "cell_type": "code",
   "execution_count": 26,
   "metadata": {},
   "outputs": [
    {
     "data": {
      "text/plain": [
       "0    ACCT-370\n",
       "1    ACCT-370\n",
       "2    ACCT-370\n",
       "3    ACCT-370\n",
       "4    ACCT-371\n",
       "Name: course, dtype: object"
      ]
     },
     "execution_count": 26,
     "metadata": {},
     "output_type": "execute_result"
    }
   ],
   "source": [
    "courses['course'].head()"
   ]
  },
  {
   "cell_type": "code",
   "execution_count": 27,
   "metadata": {},
   "outputs": [
    {
     "data": {
      "text/plain": [
       "0    [ACCT, 370]\n",
       "1    [ACCT, 370]\n",
       "2    [ACCT, 370]\n",
       "3    [ACCT, 370]\n",
       "4    [ACCT, 371]\n",
       "Name: course, dtype: object"
      ]
     },
     "execution_count": 27,
     "metadata": {},
     "output_type": "execute_result"
    }
   ],
   "source": [
    "courses['course'].str.split('-').head()"
   ]
  },
  {
   "cell_type": "code",
   "execution_count": 28,
   "metadata": {},
   "outputs": [
    {
     "data": {
      "text/plain": [
       "0    ACCT\n",
       "1    ACCT\n",
       "2    ACCT\n",
       "3    ACCT\n",
       "4    ACCT\n",
       "Name: course, dtype: object"
      ]
     },
     "execution_count": 28,
     "metadata": {},
     "output_type": "execute_result"
    }
   ],
   "source": [
    "courses['course'].str.split('-').str[0].head()"
   ]
  },
  {
   "cell_type": "code",
   "execution_count": 29,
   "metadata": {},
   "outputs": [
    {
     "data": {
      "text/plain": [
       "0    370\n",
       "1    370\n",
       "2    370\n",
       "3    370\n",
       "4    371\n",
       "Name: course, dtype: object"
      ]
     },
     "execution_count": 29,
     "metadata": {},
     "output_type": "execute_result"
    }
   ],
   "source": [
    "courses['course'].str.split('-').str[1].head()"
   ]
  },
  {
   "cell_type": "markdown",
   "metadata": {},
   "source": [
    "**Q3:** Redo Q1 and Q2 using vectorized string methods already in Pandas, rather than writing your own function and calling Series.apply. "
   ]
  },
  {
   "cell_type": "code",
   "execution_count": 31,
   "metadata": {},
   "outputs": [
    {
     "data": {
      "text/html": [
       "<div>\n",
       "<style scoped>\n",
       "    .dataframe tbody tr th:only-of-type {\n",
       "        vertical-align: middle;\n",
       "    }\n",
       "\n",
       "    .dataframe tbody tr th {\n",
       "        vertical-align: top;\n",
       "    }\n",
       "\n",
       "    .dataframe thead th {\n",
       "        text-align: right;\n",
       "    }\n",
       "</style>\n",
       "<table border=\"1\" class=\"dataframe\">\n",
       "  <thead>\n",
       "    <tr style=\"text-align: right;\">\n",
       "      <th></th>\n",
       "      <th>first_name</th>\n",
       "      <th>last_name</th>\n",
       "    </tr>\n",
       "  </thead>\n",
       "  <tbody>\n",
       "    <tr>\n",
       "      <th>0</th>\n",
       "      <td>Merle</td>\n",
       "      <td>Hopkins</td>\n",
       "    </tr>\n",
       "    <tr>\n",
       "      <th>1</th>\n",
       "      <td>Merle</td>\n",
       "      <td>Hopkins</td>\n",
       "    </tr>\n",
       "    <tr>\n",
       "      <th>2</th>\n",
       "      <td>Merle</td>\n",
       "      <td>Hopkins</td>\n",
       "    </tr>\n",
       "    <tr>\n",
       "      <th>3</th>\n",
       "      <td>Merle</td>\n",
       "      <td>Hopkins</td>\n",
       "    </tr>\n",
       "    <tr>\n",
       "      <th>4</th>\n",
       "      <td>NaN</td>\n",
       "      <td>NaN</td>\n",
       "    </tr>\n",
       "  </tbody>\n",
       "</table>\n",
       "</div>"
      ],
      "text/plain": [
       "  first_name last_name\n",
       "0      Merle   Hopkins\n",
       "1      Merle   Hopkins\n",
       "2      Merle   Hopkins\n",
       "3      Merle   Hopkins\n",
       "4        NaN       NaN"
      ]
     },
     "execution_count": 31,
     "metadata": {},
     "output_type": "execute_result"
    }
   ],
   "source": [
    "# Checking outputs for Q1\n",
    "courses[['first_name','last_name']].head()"
   ]
  },
  {
   "cell_type": "code",
   "execution_count": 32,
   "metadata": {},
   "outputs": [
    {
     "data": {
      "text/plain": [
       "'Merle'"
      ]
     },
     "execution_count": 32,
     "metadata": {},
     "output_type": "execute_result"
    }
   ],
   "source": [
    "courses['first_name'][0]"
   ]
  },
  {
   "cell_type": "code",
   "execution_count": 34,
   "metadata": {},
   "outputs": [
    {
     "data": {
      "text/plain": [
       "term\n",
       "20153    0.229814\n",
       "20161    0.241379\n",
       "20162    0.297297\n",
       "20163    0.219911\n",
       "20171    0.216590\n",
       "20172    0.250000\n",
       "Name: evening, dtype: float64"
      ]
     },
     "execution_count": 34,
     "metadata": {},
     "output_type": "execute_result"
    }
   ],
   "source": [
    "# Checking outputs for Q2\n",
    "courses.groupby('term')['evening'].mean()"
   ]
  },
  {
   "cell_type": "markdown",
   "metadata": {},
   "source": [
    "**Q4:** Plot the number of sections by term whose title contains the string \"intro\" (ignoring cases)."
   ]
  },
  {
   "cell_type": "code",
   "execution_count": 35,
   "metadata": {},
   "outputs": [
    {
     "data": {
      "text/plain": [
       "<matplotlib.axes._subplots.AxesSubplot at 0x7f191279eb70>"
      ]
     },
     "execution_count": 35,
     "metadata": {},
     "output_type": "execute_result"
    },
    {
     "data": {
      "image/png": "[encoded data removed]",
      "text/plain": [
       "<Figure size 432x288 with 1 Axes>"
      ]
     },
     "metadata": {
      "needs_background": "light"
     },
     "output_type": "display_data"
    }
   ],
   "source": []
  },
  {
   "cell_type": "markdown",
   "metadata": {},
   "source": [
    "**(Optional) Q5:** \n",
    "Run the following code to load in professor information, and merge it with the \"courses\" DataFrame using the \"first_name\" and \"last_name\" columns you have created. Then group by the \"Role\" and \"Promotion\" of professors and plot the percentage of sections taught by each group scheduled in the evening, as follows."
   ]
  },
  {
   "cell_type": "code",
   "execution_count": 36,
   "metadata": {},
   "outputs": [
    {
     "data": {
      "text/html": [
       "<div>\n",
       "<style scoped>\n",
       "    .dataframe tbody tr th:only-of-type {\n",
       "        vertical-align: middle;\n",
       "    }\n",
       "\n",
       "    .dataframe tbody tr th {\n",
       "        vertical-align: top;\n",
       "    }\n",
       "\n",
       "    .dataframe thead th {\n",
       "        text-align: right;\n",
       "    }\n",
       "</style>\n",
       "<table border=\"1\" class=\"dataframe\">\n",
       "  <thead>\n",
       "    <tr style=\"text-align: right;\">\n",
       "      <th></th>\n",
       "      <th>First_Name</th>\n",
       "      <th>Last_Name</th>\n",
       "      <th>Role</th>\n",
       "      <th>Promotion</th>\n",
       "    </tr>\n",
       "  </thead>\n",
       "  <tbody>\n",
       "    <tr>\n",
       "      <th>0</th>\n",
       "      <td>Arif</td>\n",
       "      <td>Ansari</td>\n",
       "      <td>Clinical</td>\n",
       "      <td>Full</td>\n",
       "    </tr>\n",
       "    <tr>\n",
       "      <th>1</th>\n",
       "      <td>Yehuda</td>\n",
       "      <td>Bassok</td>\n",
       "      <td>Tenure Track</td>\n",
       "      <td>Full</td>\n",
       "    </tr>\n",
       "    <tr>\n",
       "      <th>2</th>\n",
       "      <td>Murat</td>\n",
       "      <td>Bayiz</td>\n",
       "      <td>Clinical</td>\n",
       "      <td>Associate</td>\n",
       "    </tr>\n",
       "    <tr>\n",
       "      <th>3</th>\n",
       "      <td>Jacob</td>\n",
       "      <td>Bien</td>\n",
       "      <td>Tenure Track</td>\n",
       "      <td>Assistant</td>\n",
       "    </tr>\n",
       "    <tr>\n",
       "      <th>4</th>\n",
       "      <td>Sriram</td>\n",
       "      <td>Dasu</td>\n",
       "      <td>Tenure Track</td>\n",
       "      <td>Associate</td>\n",
       "    </tr>\n",
       "  </tbody>\n",
       "</table>\n",
       "</div>"
      ],
      "text/plain": [
       "  First_Name Last_Name          Role   Promotion\n",
       "0       Arif    Ansari      Clinical        Full\n",
       "1     Yehuda    Bassok  Tenure Track        Full\n",
       "2      Murat     Bayiz      Clinical   Associate\n",
       "3      Jacob      Bien  Tenure Track  Assistant \n",
       "4     Sriram      Dasu  Tenure Track   Associate"
      ]
     },
     "execution_count": 36,
     "metadata": {},
     "output_type": "execute_result"
    }
   ],
   "source": [
    "professors=pd.read_csv('Professor_information.csv',encoding='latin1')\\\n",
    "    [['First_Name','Last_Name','Role','Promotion']]\n",
    "professors.head()"
   ]
  },
  {
   "cell_type": "code",
   "execution_count": 37,
   "metadata": {},
   "outputs": [
    {
     "data": {
      "text/plain": [
       "<matplotlib.axes._subplots.AxesSubplot at 0x7f191290e0b8>"
      ]
     },
     "execution_count": 37,
     "metadata": {},
     "output_type": "execute_result"
    },
    {
     "data": {
      "image/png": "[encoded data removed]",
      "text/plain": [
       "<Figure size 432x288 with 1 Axes>"
      ]
     },
     "metadata": {
      "needs_background": "light"
     },
     "output_type": "display_data"
    }
   ],
   "source": []
  }
 ],
 "metadata": {
  "kernelspec": {
   "display_name": "Python 3",
   "language": "python",
   "name": "python3"
  },
  "language_info": {
   "codemirror_mode": {
    "name": "ipython",
    "version": 3
   },
   "file_extension": ".py",
   "mimetype": "text/x-python",
   "name": "python",
   "nbconvert_exporter": "python",
   "pygments_lexer": "ipython3",
   "version": "3.7.2"
  }
 },
 "nbformat": 4,
 "nbformat_minor": 2
}
