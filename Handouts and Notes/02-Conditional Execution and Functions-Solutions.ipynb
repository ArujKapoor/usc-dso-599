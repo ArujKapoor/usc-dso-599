{
 "cells": [
  {
   "cell_type": "markdown",
   "metadata": {},
   "source": [
    "# Session 2. Conditional Execution and Functions (with Solutions)\n",
    "\n",
    "## 1. Conditional Execution\n",
    "\n",
    "**Example 1:** The following program calculates a worker's weekly pay based on the following contract: for the first 40 hours, the hourly pay is 10. After that there is a 50 percent bonus per additional hour worked."
   ]
  },
  {
   "cell_type": "code",
   "execution_count": 1,
   "metadata": {},
   "outputs": [
    {
     "name": "stdout",
     "output_type": "stream",
     "text": [
      "Hours worked this week: 42\n",
      "Total pay: 430.0\n"
     ]
    }
   ],
   "source": [
    "hours=float(input('Hours worked this week: '))\n",
    "if hours<=40:\n",
    "    pay=hours*10\n",
    "else:\n",
    "    pay=40*10+(hours-40)*15\n",
    "print('Total pay:',pay)"
   ]
  },
  {
   "cell_type": "markdown",
   "metadata": {},
   "source": [
    "**Example 2:** The following program asks for the user's systolic and diastolic blood pressure, and output one of `LOW`, `IDEAL`, `PRE-HIGH` or `HIGH` according to this chart:\n",
    "\n",
    "![Blood pressure chart](blood_chart.png)"
   ]
  },
  {
   "cell_type": "code",
   "execution_count": 2,
   "metadata": {},
   "outputs": [
    {
     "name": "stdout",
     "output_type": "stream",
     "text": [
      "Systolic blood pressure: 100\n",
      "Diastolic blood pressure: 70\n",
      "Your blood pressure is IDEAL\n"
     ]
    }
   ],
   "source": [
    "high=float(input('Systolic blood pressure: '))\n",
    "low=float(input('Diastolic blood pressure: '))\n",
    "if low<=60 and high<=90:\n",
    "    answer='LOW'\n",
    "elif low<=80 and high<=120:\n",
    "    answer='IDEAL'\n",
    "elif low<=90 and high<=140:\n",
    "    answer='PRE-HIGH'\n",
    "else:\n",
    "    answer='HIGH'\n",
    "print('Your blood pressure is',answer)"
   ]
  },
  {
   "cell_type": "markdown",
   "metadata": {},
   "source": [
    "**Example 3:** The following program implements a primitive protocol for triaging asymptomatic individuals for risk of COVID-19."
   ]
  },
  {
   "cell_type": "code",
   "execution_count": 21,
   "metadata": {},
   "outputs": [
    {
     "name": "stdout",
     "output_type": "stream",
     "text": [
      "Having been in one of the high risk countries in the past 14 days? (yes/no): no\n",
      "Have you been in contact with any recent travelers to one of those countries? (yes/no): no\n",
      "You have low risks as long as you practice the regular precautions in a flu season.\n"
     ]
    }
   ],
   "source": [
    "Q1=input('Having been in one of the high risk countries in the past 14 days? (yes/no): ')\n",
    "if Q1=='yes':\n",
    "    print('You should be quarantined for 14 days.')\n",
    "else:\n",
    "    Q2=input('Have you been in contact with any recent travelers to one of those countries? (yes/no): ')\n",
    "    if Q2=='yes':\n",
    "        print('You should consider self-quarantine for 14 days.')\n",
    "    else:\n",
    "        print('You have low risks as long as you practice the regular precautions in a flu season.')"
   ]
  },
  {
   "cell_type": "markdown",
   "metadata": {},
   "source": [
    "## Q1. Basestock Policy in Inventory Management\n",
    "\n",
    "Write a program that asks the user for the current inventory level. If the inventory is at least equal to the target level of $100$, then output \"Sufficient inventory. No need to order.\" \n",
    "\n",
    "Otherwise, output \"Order x units\", where $x$ is the target minus the current inventory."
   ]
  },
  {
   "cell_type": "code",
   "execution_count": 4,
   "metadata": {},
   "outputs": [
    {
     "name": "stdout",
     "output_type": "stream",
     "text": [
      "Current inventory: 75\n",
      "Order 25 units.\n"
     ]
    }
   ],
   "source": [
    "basestock=100\n",
    "inventory=input('Current inventory: ')\n",
    "inventory=int(inventory)\n",
    "if inventory>=basestock:\n",
    "    print('Sufficient inventory. No need to order.')\n",
    "else:\n",
    "    print(f'Order {basestock-inventory} units.')"
   ]
  },
  {
   "cell_type": "markdown",
   "metadata": {},
   "source": [
    "## Q2. Blood Sugar Checker\n",
    "\n",
    "Write a program that asks the user how many hours they have fasted and their current blood sugar level. \n",
    "\n",
    "- If they have fasted less than 2 hours, then output \"You need to fast at least 2 hours to perform this test.\" \n",
    "- If they fasted at least 2 hours but less than 8 hours, then output \"Your blood sugar level is high\" if it is more than 140, and \"Your blood sugar level is normal\" otherwise. \n",
    "- If they have fasted for at least 8 hours, then the threshold for normal sugar level changes from 140 to 100."
   ]
  },
  {
   "cell_type": "code",
   "execution_count": 5,
   "metadata": {},
   "outputs": [
    {
     "name": "stdout",
     "output_type": "stream",
     "text": [
      "How many hours have you fasted: 2\n",
      "What is your blood sugar level: 110\n",
      "Your blood suguar level is normal.\n"
     ]
    }
   ],
   "source": [
    "hours=float(input('How many hours have you fasted: '))\n",
    "level=float(input('What is your blood sugar level: '))\n",
    "high_msg='Your blood sugar level is high.'\n",
    "low_msg='Your blood suguar level is normal.'\n",
    "if hours<2:\n",
    "    print('You need to fast at least 2 hours to perform this test.')\n",
    "elif hours<8:\n",
    "    if level>140:    \n",
    "        print(high_msg)\n",
    "    else:\n",
    "        print(low_msg)\n",
    "else:\n",
    "    if level>100:    \n",
    "        print(high_msg)\n",
    "    else:\n",
    "        print(low_msg)"
   ]
  }
 ],
 "metadata": {
  "kernelspec": {
   "display_name": "Python 3",
   "language": "python",
   "name": "python3"
  },
  "language_info": {
   "codemirror_mode": {
    "name": "ipython",
    "version": 3
   },
   "file_extension": ".py",
   "mimetype": "text/x-python",
   "name": "python",
   "nbconvert_exporter": "python",
   "pygments_lexer": "ipython3",
   "version": "3.7.6"
  }
 },
 "nbformat": 4,
 "nbformat_minor": 2
}
